{
 "cells": [
  {
   "cell_type": "code",
   "outputs": [
    {
     "name": "stdout",
     "output_type": "stream",
     "text": [
      "Collecting ucimlrepo\r\n",
      "  Downloading ucimlrepo-0.0.3-py3-none-any.whl.metadata (5.2 kB)\r\n",
      "Downloading ucimlrepo-0.0.3-py3-none-any.whl (7.0 kB)\r\n",
      "Installing collected packages: ucimlrepo\r\n",
      "Successfully installed ucimlrepo-0.0.3\r\n"
     ]
    }
   ],
   "source": [
    "!pip install ucimlrepo"
   ],
   "metadata": {
    "collapsed": false,
    "ExecuteTime": {
     "end_time": "2024-03-17T17:22:23.027285Z",
     "start_time": "2024-03-17T17:22:21.279462Z"
    }
   },
   "id": "e7d57d531e3cf7d2",
   "execution_count": 1
  },
  {
   "cell_type": "code",
   "outputs": [
    {
     "data": {
      "text/plain": "     id       age  death     sex  hospdead  slos  d.time            dzgroup  \\\n0     1  62.84998      0    male         0     5    2029        Lung Cancer   \n1     2  60.33899      1  female         1     4       4          Cirrhosis   \n2     3  52.74698      1  female         0    17      47          Cirrhosis   \n3     4  42.38498      1  female         0     3     133        Lung Cancer   \n4     5  79.88495      0  female         0    16    2029  ARF/MOSF w/Sepsis   \n..  ...       ...    ...     ...       ...   ...     ...                ...   \n95   96  53.34998      1    male         0    52     126  ARF/MOSF w/Sepsis   \n96   97  89.58795      1    male         1     4       4  ARF/MOSF w/Sepsis   \n97   98  56.62399      1    male         0    11     559       Colon Cancer   \n98   99  75.04199      1    male         0     6     123       Colon Cancer   \n99  100  75.76196      0    male         0    21    1962  ARF/MOSF w/Sepsis   \n\n               dzclass  num.co  ...      crea    sod        ph  glucose  bun  \\\n0               Cancer       0  ...  1.199951  141.0  7.459961      NaN  NaN   \n1   COPD/CHF/Cirrhosis       2  ...  5.500000  132.0  7.250000      NaN  NaN   \n2   COPD/CHF/Cirrhosis       2  ...  2.000000  134.0  7.459961      NaN  NaN   \n3               Cancer       2  ...  0.799927  139.0       NaN      NaN  NaN   \n4             ARF/MOSF       1  ...  0.799927  143.0  7.509766      NaN  NaN   \n..                 ...     ...  ...       ...    ...       ...      ...  ...   \n95            ARF/MOSF       0  ...  2.699707  154.0  7.369141      NaN  NaN   \n96            ARF/MOSF       2  ...  1.000000  130.0  7.289062      NaN  NaN   \n97              Cancer       0  ...  1.199951  136.0       NaN      NaN  NaN   \n98              Cancer       0  ...  7.599609  134.0  7.479492      NaN  NaN   \n99            ARF/MOSF       0  ...  1.099854  132.0  7.489258      NaN  NaN   \n\n    urine  adlp adls                sfdm2     adlsc  \n0     NaN   7.0  7.0                  NaN  7.000000  \n1     NaN   NaN  1.0     <2 mo. follow-up  1.000000  \n2     NaN   1.0  0.0     <2 mo. follow-up  0.000000  \n3     NaN   0.0  0.0  no(M2 and SIP pres)  0.000000  \n4     NaN   NaN  2.0  no(M2 and SIP pres)  2.000000  \n..    ...   ...  ...                  ...       ...  \n95    NaN   NaN  6.0                  NaN  6.000000  \n96    NaN   NaN  NaN     <2 mo. follow-up  5.568359  \n97    NaN   0.0  0.0  no(M2 and SIP pres)  0.000000  \n98    NaN   NaN  NaN              SIP>=30  2.249512  \n99    NaN   0.0  NaN                  NaN  0.494800  \n\n[100 rows x 48 columns]",
      "text/html": "<div>\n<style scoped>\n    .dataframe tbody tr th:only-of-type {\n        vertical-align: middle;\n    }\n\n    .dataframe tbody tr th {\n        vertical-align: top;\n    }\n\n    .dataframe thead th {\n        text-align: right;\n    }\n</style>\n<table border=\"1\" class=\"dataframe\">\n  <thead>\n    <tr style=\"text-align: right;\">\n      <th></th>\n      <th>id</th>\n      <th>age</th>\n      <th>death</th>\n      <th>sex</th>\n      <th>hospdead</th>\n      <th>slos</th>\n      <th>d.time</th>\n      <th>dzgroup</th>\n      <th>dzclass</th>\n      <th>num.co</th>\n      <th>...</th>\n      <th>crea</th>\n      <th>sod</th>\n      <th>ph</th>\n      <th>glucose</th>\n      <th>bun</th>\n      <th>urine</th>\n      <th>adlp</th>\n      <th>adls</th>\n      <th>sfdm2</th>\n      <th>adlsc</th>\n    </tr>\n  </thead>\n  <tbody>\n    <tr>\n      <th>0</th>\n      <td>1</td>\n      <td>62.84998</td>\n      <td>0</td>\n      <td>male</td>\n      <td>0</td>\n      <td>5</td>\n      <td>2029</td>\n      <td>Lung Cancer</td>\n      <td>Cancer</td>\n      <td>0</td>\n      <td>...</td>\n      <td>1.199951</td>\n      <td>141.0</td>\n      <td>7.459961</td>\n      <td>NaN</td>\n      <td>NaN</td>\n      <td>NaN</td>\n      <td>7.0</td>\n      <td>7.0</td>\n      <td>NaN</td>\n      <td>7.000000</td>\n    </tr>\n    <tr>\n      <th>1</th>\n      <td>2</td>\n      <td>60.33899</td>\n      <td>1</td>\n      <td>female</td>\n      <td>1</td>\n      <td>4</td>\n      <td>4</td>\n      <td>Cirrhosis</td>\n      <td>COPD/CHF/Cirrhosis</td>\n      <td>2</td>\n      <td>...</td>\n      <td>5.500000</td>\n      <td>132.0</td>\n      <td>7.250000</td>\n      <td>NaN</td>\n      <td>NaN</td>\n      <td>NaN</td>\n      <td>NaN</td>\n      <td>1.0</td>\n      <td>&lt;2 mo. follow-up</td>\n      <td>1.000000</td>\n    </tr>\n    <tr>\n      <th>2</th>\n      <td>3</td>\n      <td>52.74698</td>\n      <td>1</td>\n      <td>female</td>\n      <td>0</td>\n      <td>17</td>\n      <td>47</td>\n      <td>Cirrhosis</td>\n      <td>COPD/CHF/Cirrhosis</td>\n      <td>2</td>\n      <td>...</td>\n      <td>2.000000</td>\n      <td>134.0</td>\n      <td>7.459961</td>\n      <td>NaN</td>\n      <td>NaN</td>\n      <td>NaN</td>\n      <td>1.0</td>\n      <td>0.0</td>\n      <td>&lt;2 mo. follow-up</td>\n      <td>0.000000</td>\n    </tr>\n    <tr>\n      <th>3</th>\n      <td>4</td>\n      <td>42.38498</td>\n      <td>1</td>\n      <td>female</td>\n      <td>0</td>\n      <td>3</td>\n      <td>133</td>\n      <td>Lung Cancer</td>\n      <td>Cancer</td>\n      <td>2</td>\n      <td>...</td>\n      <td>0.799927</td>\n      <td>139.0</td>\n      <td>NaN</td>\n      <td>NaN</td>\n      <td>NaN</td>\n      <td>NaN</td>\n      <td>0.0</td>\n      <td>0.0</td>\n      <td>no(M2 and SIP pres)</td>\n      <td>0.000000</td>\n    </tr>\n    <tr>\n      <th>4</th>\n      <td>5</td>\n      <td>79.88495</td>\n      <td>0</td>\n      <td>female</td>\n      <td>0</td>\n      <td>16</td>\n      <td>2029</td>\n      <td>ARF/MOSF w/Sepsis</td>\n      <td>ARF/MOSF</td>\n      <td>1</td>\n      <td>...</td>\n      <td>0.799927</td>\n      <td>143.0</td>\n      <td>7.509766</td>\n      <td>NaN</td>\n      <td>NaN</td>\n      <td>NaN</td>\n      <td>NaN</td>\n      <td>2.0</td>\n      <td>no(M2 and SIP pres)</td>\n      <td>2.000000</td>\n    </tr>\n    <tr>\n      <th>...</th>\n      <td>...</td>\n      <td>...</td>\n      <td>...</td>\n      <td>...</td>\n      <td>...</td>\n      <td>...</td>\n      <td>...</td>\n      <td>...</td>\n      <td>...</td>\n      <td>...</td>\n      <td>...</td>\n      <td>...</td>\n      <td>...</td>\n      <td>...</td>\n      <td>...</td>\n      <td>...</td>\n      <td>...</td>\n      <td>...</td>\n      <td>...</td>\n      <td>...</td>\n      <td>...</td>\n    </tr>\n    <tr>\n      <th>95</th>\n      <td>96</td>\n      <td>53.34998</td>\n      <td>1</td>\n      <td>male</td>\n      <td>0</td>\n      <td>52</td>\n      <td>126</td>\n      <td>ARF/MOSF w/Sepsis</td>\n      <td>ARF/MOSF</td>\n      <td>0</td>\n      <td>...</td>\n      <td>2.699707</td>\n      <td>154.0</td>\n      <td>7.369141</td>\n      <td>NaN</td>\n      <td>NaN</td>\n      <td>NaN</td>\n      <td>NaN</td>\n      <td>6.0</td>\n      <td>NaN</td>\n      <td>6.000000</td>\n    </tr>\n    <tr>\n      <th>96</th>\n      <td>97</td>\n      <td>89.58795</td>\n      <td>1</td>\n      <td>male</td>\n      <td>1</td>\n      <td>4</td>\n      <td>4</td>\n      <td>ARF/MOSF w/Sepsis</td>\n      <td>ARF/MOSF</td>\n      <td>2</td>\n      <td>...</td>\n      <td>1.000000</td>\n      <td>130.0</td>\n      <td>7.289062</td>\n      <td>NaN</td>\n      <td>NaN</td>\n      <td>NaN</td>\n      <td>NaN</td>\n      <td>NaN</td>\n      <td>&lt;2 mo. follow-up</td>\n      <td>5.568359</td>\n    </tr>\n    <tr>\n      <th>97</th>\n      <td>98</td>\n      <td>56.62399</td>\n      <td>1</td>\n      <td>male</td>\n      <td>0</td>\n      <td>11</td>\n      <td>559</td>\n      <td>Colon Cancer</td>\n      <td>Cancer</td>\n      <td>0</td>\n      <td>...</td>\n      <td>1.199951</td>\n      <td>136.0</td>\n      <td>NaN</td>\n      <td>NaN</td>\n      <td>NaN</td>\n      <td>NaN</td>\n      <td>0.0</td>\n      <td>0.0</td>\n      <td>no(M2 and SIP pres)</td>\n      <td>0.000000</td>\n    </tr>\n    <tr>\n      <th>98</th>\n      <td>99</td>\n      <td>75.04199</td>\n      <td>1</td>\n      <td>male</td>\n      <td>0</td>\n      <td>6</td>\n      <td>123</td>\n      <td>Colon Cancer</td>\n      <td>Cancer</td>\n      <td>0</td>\n      <td>...</td>\n      <td>7.599609</td>\n      <td>134.0</td>\n      <td>7.479492</td>\n      <td>NaN</td>\n      <td>NaN</td>\n      <td>NaN</td>\n      <td>NaN</td>\n      <td>NaN</td>\n      <td>SIP&gt;=30</td>\n      <td>2.249512</td>\n    </tr>\n    <tr>\n      <th>99</th>\n      <td>100</td>\n      <td>75.76196</td>\n      <td>0</td>\n      <td>male</td>\n      <td>0</td>\n      <td>21</td>\n      <td>1962</td>\n      <td>ARF/MOSF w/Sepsis</td>\n      <td>ARF/MOSF</td>\n      <td>0</td>\n      <td>...</td>\n      <td>1.099854</td>\n      <td>132.0</td>\n      <td>7.489258</td>\n      <td>NaN</td>\n      <td>NaN</td>\n      <td>NaN</td>\n      <td>0.0</td>\n      <td>NaN</td>\n      <td>NaN</td>\n      <td>0.494800</td>\n    </tr>\n  </tbody>\n</table>\n<p>100 rows × 48 columns</p>\n</div>"
     },
     "execution_count": 12,
     "metadata": {},
     "output_type": "execute_result"
    }
   ],
   "source": [
    "from ucimlrepo import fetch_ucirepo \n",
    "  \n",
    "# fetch dataset \n",
    "support2 = fetch_ucirepo(id=880).data.original\n",
    "support2.head(100)\n"
   ],
   "metadata": {
    "collapsed": false,
    "ExecuteTime": {
     "end_time": "2024-03-17T17:31:19.311744Z",
     "start_time": "2024-03-17T17:31:14.349067Z"
    }
   },
   "id": "e0b763fbf5709169",
   "execution_count": 12
  },
  {
   "cell_type": "code",
   "outputs": [
    {
     "data": {
      "text/plain": "                id          age        death     hospdead         slos  \\\ncount  9105.000000  9105.000000  9105.000000  9105.000000  9105.000000   \nmean   4553.000000    62.650823     0.681054     0.259198    17.863042   \nstd    2628.531434    15.593710     0.466094     0.438219    22.006440   \nmin       1.000000    18.041990     0.000000     0.000000     3.000000   \n25%    2277.000000    52.797000     0.000000     0.000000     6.000000   \n50%    4553.000000    64.856990     1.000000     0.000000    11.000000   \n75%    6829.000000    73.998960     1.000000     1.000000    20.000000   \nmax    9105.000000   101.847960     1.000000     1.000000   343.000000   \n\n            d.time       num.co          edu        scoma       charges  ...  \\\ncount  9105.000000  9105.000000  7471.000000  9104.000000  8.933000e+03  ...   \nmean    478.449863     1.868644    11.747691    12.058546  5.999579e+04  ...   \nstd     560.383272     1.344409     3.447743    24.636694  1.026488e+05  ...   \nmin       3.000000     0.000000     0.000000     0.000000  1.169000e+03  ...   \n25%      26.000000     1.000000    10.000000     0.000000  9.740000e+03  ...   \n50%     233.000000     2.000000    12.000000     0.000000  2.502400e+04  ...   \n75%     761.000000     3.000000    14.000000     9.000000  6.459800e+04  ...   \nmax    2029.000000     9.000000    31.000000   100.000000  1.435423e+06  ...   \n\n              bili         crea          sod           ph      glucose  \\\ncount  6504.000000  9038.000000  9104.000000  6821.000000  4605.000000   \nmean      2.554463     1.770961   137.568541     7.415364   159.873398   \nstd       5.318448     1.686041     6.029326     0.080563    88.391541   \nmin       0.099991     0.099991   110.000000     6.829102     0.000000   \n25%       0.500000     0.899902   134.000000     7.379883   103.000000   \n50%       0.899902     1.199951   137.000000     7.419922   135.000000   \n75%       1.899902     1.899902   141.000000     7.469727   188.000000   \nmax      63.000000    21.500000   181.000000     7.769531  1092.000000   \n\n               bun        urine         adlp         adls        adlsc  \ncount  4753.000000  4243.000000  3464.000000  6238.000000  9105.000000  \nmean     32.349463  2191.546047     1.157910     1.637384     1.888272  \nstd      26.792288  1455.245777     1.739672     2.231358     2.003763  \nmin       1.000000     0.000000     0.000000     0.000000     0.000000  \n25%      14.000000  1165.500000     0.000000     0.000000     0.000000  \n50%      23.000000  1968.000000     0.000000     1.000000     1.000000  \n75%      42.000000  3000.000000     2.000000     3.000000     3.000000  \nmax     300.000000  9000.000000     7.000000     7.000000     7.073242  \n\n[8 rows x 40 columns]",
      "text/html": "<div>\n<style scoped>\n    .dataframe tbody tr th:only-of-type {\n        vertical-align: middle;\n    }\n\n    .dataframe tbody tr th {\n        vertical-align: top;\n    }\n\n    .dataframe thead th {\n        text-align: right;\n    }\n</style>\n<table border=\"1\" class=\"dataframe\">\n  <thead>\n    <tr style=\"text-align: right;\">\n      <th></th>\n      <th>id</th>\n      <th>age</th>\n      <th>death</th>\n      <th>hospdead</th>\n      <th>slos</th>\n      <th>d.time</th>\n      <th>num.co</th>\n      <th>edu</th>\n      <th>scoma</th>\n      <th>charges</th>\n      <th>...</th>\n      <th>bili</th>\n      <th>crea</th>\n      <th>sod</th>\n      <th>ph</th>\n      <th>glucose</th>\n      <th>bun</th>\n      <th>urine</th>\n      <th>adlp</th>\n      <th>adls</th>\n      <th>adlsc</th>\n    </tr>\n  </thead>\n  <tbody>\n    <tr>\n      <th>count</th>\n      <td>9105.000000</td>\n      <td>9105.000000</td>\n      <td>9105.000000</td>\n      <td>9105.000000</td>\n      <td>9105.000000</td>\n      <td>9105.000000</td>\n      <td>9105.000000</td>\n      <td>7471.000000</td>\n      <td>9104.000000</td>\n      <td>8.933000e+03</td>\n      <td>...</td>\n      <td>6504.000000</td>\n      <td>9038.000000</td>\n      <td>9104.000000</td>\n      <td>6821.000000</td>\n      <td>4605.000000</td>\n      <td>4753.000000</td>\n      <td>4243.000000</td>\n      <td>3464.000000</td>\n      <td>6238.000000</td>\n      <td>9105.000000</td>\n    </tr>\n    <tr>\n      <th>mean</th>\n      <td>4553.000000</td>\n      <td>62.650823</td>\n      <td>0.681054</td>\n      <td>0.259198</td>\n      <td>17.863042</td>\n      <td>478.449863</td>\n      <td>1.868644</td>\n      <td>11.747691</td>\n      <td>12.058546</td>\n      <td>5.999579e+04</td>\n      <td>...</td>\n      <td>2.554463</td>\n      <td>1.770961</td>\n      <td>137.568541</td>\n      <td>7.415364</td>\n      <td>159.873398</td>\n      <td>32.349463</td>\n      <td>2191.546047</td>\n      <td>1.157910</td>\n      <td>1.637384</td>\n      <td>1.888272</td>\n    </tr>\n    <tr>\n      <th>std</th>\n      <td>2628.531434</td>\n      <td>15.593710</td>\n      <td>0.466094</td>\n      <td>0.438219</td>\n      <td>22.006440</td>\n      <td>560.383272</td>\n      <td>1.344409</td>\n      <td>3.447743</td>\n      <td>24.636694</td>\n      <td>1.026488e+05</td>\n      <td>...</td>\n      <td>5.318448</td>\n      <td>1.686041</td>\n      <td>6.029326</td>\n      <td>0.080563</td>\n      <td>88.391541</td>\n      <td>26.792288</td>\n      <td>1455.245777</td>\n      <td>1.739672</td>\n      <td>2.231358</td>\n      <td>2.003763</td>\n    </tr>\n    <tr>\n      <th>min</th>\n      <td>1.000000</td>\n      <td>18.041990</td>\n      <td>0.000000</td>\n      <td>0.000000</td>\n      <td>3.000000</td>\n      <td>3.000000</td>\n      <td>0.000000</td>\n      <td>0.000000</td>\n      <td>0.000000</td>\n      <td>1.169000e+03</td>\n      <td>...</td>\n      <td>0.099991</td>\n      <td>0.099991</td>\n      <td>110.000000</td>\n      <td>6.829102</td>\n      <td>0.000000</td>\n      <td>1.000000</td>\n      <td>0.000000</td>\n      <td>0.000000</td>\n      <td>0.000000</td>\n      <td>0.000000</td>\n    </tr>\n    <tr>\n      <th>25%</th>\n      <td>2277.000000</td>\n      <td>52.797000</td>\n      <td>0.000000</td>\n      <td>0.000000</td>\n      <td>6.000000</td>\n      <td>26.000000</td>\n      <td>1.000000</td>\n      <td>10.000000</td>\n      <td>0.000000</td>\n      <td>9.740000e+03</td>\n      <td>...</td>\n      <td>0.500000</td>\n      <td>0.899902</td>\n      <td>134.000000</td>\n      <td>7.379883</td>\n      <td>103.000000</td>\n      <td>14.000000</td>\n      <td>1165.500000</td>\n      <td>0.000000</td>\n      <td>0.000000</td>\n      <td>0.000000</td>\n    </tr>\n    <tr>\n      <th>50%</th>\n      <td>4553.000000</td>\n      <td>64.856990</td>\n      <td>1.000000</td>\n      <td>0.000000</td>\n      <td>11.000000</td>\n      <td>233.000000</td>\n      <td>2.000000</td>\n      <td>12.000000</td>\n      <td>0.000000</td>\n      <td>2.502400e+04</td>\n      <td>...</td>\n      <td>0.899902</td>\n      <td>1.199951</td>\n      <td>137.000000</td>\n      <td>7.419922</td>\n      <td>135.000000</td>\n      <td>23.000000</td>\n      <td>1968.000000</td>\n      <td>0.000000</td>\n      <td>1.000000</td>\n      <td>1.000000</td>\n    </tr>\n    <tr>\n      <th>75%</th>\n      <td>6829.000000</td>\n      <td>73.998960</td>\n      <td>1.000000</td>\n      <td>1.000000</td>\n      <td>20.000000</td>\n      <td>761.000000</td>\n      <td>3.000000</td>\n      <td>14.000000</td>\n      <td>9.000000</td>\n      <td>6.459800e+04</td>\n      <td>...</td>\n      <td>1.899902</td>\n      <td>1.899902</td>\n      <td>141.000000</td>\n      <td>7.469727</td>\n      <td>188.000000</td>\n      <td>42.000000</td>\n      <td>3000.000000</td>\n      <td>2.000000</td>\n      <td>3.000000</td>\n      <td>3.000000</td>\n    </tr>\n    <tr>\n      <th>max</th>\n      <td>9105.000000</td>\n      <td>101.847960</td>\n      <td>1.000000</td>\n      <td>1.000000</td>\n      <td>343.000000</td>\n      <td>2029.000000</td>\n      <td>9.000000</td>\n      <td>31.000000</td>\n      <td>100.000000</td>\n      <td>1.435423e+06</td>\n      <td>...</td>\n      <td>63.000000</td>\n      <td>21.500000</td>\n      <td>181.000000</td>\n      <td>7.769531</td>\n      <td>1092.000000</td>\n      <td>300.000000</td>\n      <td>9000.000000</td>\n      <td>7.000000</td>\n      <td>7.000000</td>\n      <td>7.073242</td>\n    </tr>\n  </tbody>\n</table>\n<p>8 rows × 40 columns</p>\n</div>"
     },
     "execution_count": 14,
     "metadata": {},
     "output_type": "execute_result"
    }
   ],
   "source": [
    "support2.describe()"
   ],
   "metadata": {
    "collapsed": false,
    "ExecuteTime": {
     "end_time": "2024-03-17T17:34:09.598299Z",
     "start_time": "2024-03-17T17:34:09.531353Z"
    }
   },
   "id": "5c29c047df7610be",
   "execution_count": 14
  },
  {
   "cell_type": "code",
   "outputs": [
    {
     "data": {
      "text/plain": "id            int64\nage         float64\ndeath         int64\nsex          object\nhospdead      int64\nslos          int64\nd.time        int64\ndzgroup      object\ndzclass      object\nnum.co        int64\nedu         float64\nincome       object\nscoma       float64\ncharges     float64\ntotcst      float64\ntotmcst     float64\navtisst     float64\nrace         object\nsps         float64\naps         float64\nsurv2m      float64\nsurv6m      float64\nhday          int64\ndiabetes      int64\ndementia      int64\nca           object\nprg2m       float64\nprg6m       float64\ndnr          object\ndnrday      float64\nmeanbp      float64\nwblc        float64\nhrt         float64\nresp        float64\ntemp        float64\npafi        float64\nalb         float64\nbili        float64\ncrea        float64\nsod         float64\nph          float64\nglucose     float64\nbun         float64\nurine       float64\nadlp        float64\nadls        float64\nsfdm2        object\nadlsc       float64\ndtype: object"
     },
     "execution_count": 16,
     "metadata": {},
     "output_type": "execute_result"
    }
   ],
   "source": [
    "support2.dtypes"
   ],
   "metadata": {
    "collapsed": false,
    "ExecuteTime": {
     "end_time": "2024-03-17T17:34:32.402873Z",
     "start_time": "2024-03-17T17:34:32.397352Z"
    }
   },
   "id": "8f85dbccd4cd36b8",
   "execution_count": 16
  },
  {
   "cell_type": "code",
   "outputs": [
    {
     "data": {
      "text/plain": "id             0\nage            0\ndeath          0\nsex            0\nhospdead       0\nslos           0\nd.time         0\ndzgroup        0\ndzclass        0\nnum.co         0\nedu         1634\nincome      2982\nscoma          1\ncharges      172\ntotcst       888\ntotmcst     3475\navtisst       82\nrace          42\nsps            1\naps            1\nsurv2m         1\nsurv6m         1\nhday           0\ndiabetes       0\ndementia       0\nca             0\nprg2m       1649\nprg6m       1633\ndnr           30\ndnrday        30\nmeanbp         1\nwblc         212\nhrt            1\nresp           1\ntemp           1\npafi        2325\nalb         3372\nbili        2601\ncrea          67\nsod            1\nph          2284\nglucose     4500\nbun         4352\nurine       4862\nadlp        5641\nadls        2867\nsfdm2       1400\nadlsc          0\ndtype: int64"
     },
     "execution_count": 20,
     "metadata": {},
     "output_type": "execute_result"
    }
   ],
   "source": [
    "support2.isna().sum()"
   ],
   "metadata": {
    "collapsed": false,
    "ExecuteTime": {
     "end_time": "2024-03-17T17:37:26.237698Z",
     "start_time": "2024-03-17T17:37:26.230961Z"
    }
   },
   "id": "e9e9d712fb556008",
   "execution_count": 20
  },
  {
   "cell_type": "code",
   "outputs": [
    {
     "data": {
      "text/plain": "(9105, 48)"
     },
     "execution_count": 22,
     "metadata": {},
     "output_type": "execute_result"
    }
   ],
   "source": [
    "support2.shape"
   ],
   "metadata": {
    "collapsed": false,
    "ExecuteTime": {
     "end_time": "2024-03-17T17:37:58.747497Z",
     "start_time": "2024-03-17T17:37:58.744040Z"
    }
   },
   "id": "8edb664bf879ce55",
   "execution_count": 22
  },
  {
   "cell_type": "code",
   "outputs": [
    {
     "data": {
      "text/plain": "        UID Product ID Type  Air temperature  Process temperature  \\\n0         1     M14860    M            298.1                308.6   \n1         2     L47181    L            298.2                308.7   \n2         3     L47182    L            298.1                308.5   \n3         4     L47183    L            298.2                308.6   \n4         5     L47184    L            298.2                308.7   \n...     ...        ...  ...              ...                  ...   \n9995   9996     M24855    M            298.8                308.4   \n9996   9997     H39410    H            298.9                308.4   \n9997   9998     M24857    M            299.0                308.6   \n9998   9999     H39412    H            299.0                308.7   \n9999  10000     M24859    M            299.0                308.7   \n\n      Rotational speed  Torque  Tool wear  Machine failure  TWF  HDF  PWF  \\\n0                 1551    42.8          0                0    0    0    0   \n1                 1408    46.3          3                0    0    0    0   \n2                 1498    49.4          5                0    0    0    0   \n3                 1433    39.5          7                0    0    0    0   \n4                 1408    40.0          9                0    0    0    0   \n...                ...     ...        ...              ...  ...  ...  ...   \n9995              1604    29.5         14                0    0    0    0   \n9996              1632    31.8         17                0    0    0    0   \n9997              1645    33.4         22                0    0    0    0   \n9998              1408    48.5         25                0    0    0    0   \n9999              1500    40.2         30                0    0    0    0   \n\n      OSF  RNF  \n0       0    0  \n1       0    0  \n2       0    0  \n3       0    0  \n4       0    0  \n...   ...  ...  \n9995    0    0  \n9996    0    0  \n9997    0    0  \n9998    0    0  \n9999    0    0  \n\n[10000 rows x 14 columns]",
      "text/html": "<div>\n<style scoped>\n    .dataframe tbody tr th:only-of-type {\n        vertical-align: middle;\n    }\n\n    .dataframe tbody tr th {\n        vertical-align: top;\n    }\n\n    .dataframe thead th {\n        text-align: right;\n    }\n</style>\n<table border=\"1\" class=\"dataframe\">\n  <thead>\n    <tr style=\"text-align: right;\">\n      <th></th>\n      <th>UID</th>\n      <th>Product ID</th>\n      <th>Type</th>\n      <th>Air temperature</th>\n      <th>Process temperature</th>\n      <th>Rotational speed</th>\n      <th>Torque</th>\n      <th>Tool wear</th>\n      <th>Machine failure</th>\n      <th>TWF</th>\n      <th>HDF</th>\n      <th>PWF</th>\n      <th>OSF</th>\n      <th>RNF</th>\n    </tr>\n  </thead>\n  <tbody>\n    <tr>\n      <th>0</th>\n      <td>1</td>\n      <td>M14860</td>\n      <td>M</td>\n      <td>298.1</td>\n      <td>308.6</td>\n      <td>1551</td>\n      <td>42.8</td>\n      <td>0</td>\n      <td>0</td>\n      <td>0</td>\n      <td>0</td>\n      <td>0</td>\n      <td>0</td>\n      <td>0</td>\n    </tr>\n    <tr>\n      <th>1</th>\n      <td>2</td>\n      <td>L47181</td>\n      <td>L</td>\n      <td>298.2</td>\n      <td>308.7</td>\n      <td>1408</td>\n      <td>46.3</td>\n      <td>3</td>\n      <td>0</td>\n      <td>0</td>\n      <td>0</td>\n      <td>0</td>\n      <td>0</td>\n      <td>0</td>\n    </tr>\n    <tr>\n      <th>2</th>\n      <td>3</td>\n      <td>L47182</td>\n      <td>L</td>\n      <td>298.1</td>\n      <td>308.5</td>\n      <td>1498</td>\n      <td>49.4</td>\n      <td>5</td>\n      <td>0</td>\n      <td>0</td>\n      <td>0</td>\n      <td>0</td>\n      <td>0</td>\n      <td>0</td>\n    </tr>\n    <tr>\n      <th>3</th>\n      <td>4</td>\n      <td>L47183</td>\n      <td>L</td>\n      <td>298.2</td>\n      <td>308.6</td>\n      <td>1433</td>\n      <td>39.5</td>\n      <td>7</td>\n      <td>0</td>\n      <td>0</td>\n      <td>0</td>\n      <td>0</td>\n      <td>0</td>\n      <td>0</td>\n    </tr>\n    <tr>\n      <th>4</th>\n      <td>5</td>\n      <td>L47184</td>\n      <td>L</td>\n      <td>298.2</td>\n      <td>308.7</td>\n      <td>1408</td>\n      <td>40.0</td>\n      <td>9</td>\n      <td>0</td>\n      <td>0</td>\n      <td>0</td>\n      <td>0</td>\n      <td>0</td>\n      <td>0</td>\n    </tr>\n    <tr>\n      <th>...</th>\n      <td>...</td>\n      <td>...</td>\n      <td>...</td>\n      <td>...</td>\n      <td>...</td>\n      <td>...</td>\n      <td>...</td>\n      <td>...</td>\n      <td>...</td>\n      <td>...</td>\n      <td>...</td>\n      <td>...</td>\n      <td>...</td>\n      <td>...</td>\n    </tr>\n    <tr>\n      <th>9995</th>\n      <td>9996</td>\n      <td>M24855</td>\n      <td>M</td>\n      <td>298.8</td>\n      <td>308.4</td>\n      <td>1604</td>\n      <td>29.5</td>\n      <td>14</td>\n      <td>0</td>\n      <td>0</td>\n      <td>0</td>\n      <td>0</td>\n      <td>0</td>\n      <td>0</td>\n    </tr>\n    <tr>\n      <th>9996</th>\n      <td>9997</td>\n      <td>H39410</td>\n      <td>H</td>\n      <td>298.9</td>\n      <td>308.4</td>\n      <td>1632</td>\n      <td>31.8</td>\n      <td>17</td>\n      <td>0</td>\n      <td>0</td>\n      <td>0</td>\n      <td>0</td>\n      <td>0</td>\n      <td>0</td>\n    </tr>\n    <tr>\n      <th>9997</th>\n      <td>9998</td>\n      <td>M24857</td>\n      <td>M</td>\n      <td>299.0</td>\n      <td>308.6</td>\n      <td>1645</td>\n      <td>33.4</td>\n      <td>22</td>\n      <td>0</td>\n      <td>0</td>\n      <td>0</td>\n      <td>0</td>\n      <td>0</td>\n      <td>0</td>\n    </tr>\n    <tr>\n      <th>9998</th>\n      <td>9999</td>\n      <td>H39412</td>\n      <td>H</td>\n      <td>299.0</td>\n      <td>308.7</td>\n      <td>1408</td>\n      <td>48.5</td>\n      <td>25</td>\n      <td>0</td>\n      <td>0</td>\n      <td>0</td>\n      <td>0</td>\n      <td>0</td>\n      <td>0</td>\n    </tr>\n    <tr>\n      <th>9999</th>\n      <td>10000</td>\n      <td>M24859</td>\n      <td>M</td>\n      <td>299.0</td>\n      <td>308.7</td>\n      <td>1500</td>\n      <td>40.2</td>\n      <td>30</td>\n      <td>0</td>\n      <td>0</td>\n      <td>0</td>\n      <td>0</td>\n      <td>0</td>\n      <td>0</td>\n    </tr>\n  </tbody>\n</table>\n<p>10000 rows × 14 columns</p>\n</div>"
     },
     "execution_count": 26,
     "metadata": {},
     "output_type": "execute_result"
    }
   ],
   "source": [
    "from ucimlrepo import fetch_ucirepo\n",
    "\n",
    "# fetch dataset \n",
    "data = fetch_ucirepo(id=601).data.original\n",
    "\n",
    "data"
   ],
   "metadata": {
    "collapsed": false,
    "ExecuteTime": {
     "end_time": "2024-03-17T17:40:34.833751Z",
     "start_time": "2024-03-17T17:40:32.522549Z"
    }
   },
   "id": "fdd1a6a2513c1714",
   "execution_count": 26
  },
  {
   "cell_type": "code",
   "outputs": [
    {
     "data": {
      "text/plain": "(10000, 14)"
     },
     "execution_count": 25,
     "metadata": {},
     "output_type": "execute_result"
    }
   ],
   "source": [
    "data.shape"
   ],
   "metadata": {
    "collapsed": false,
    "ExecuteTime": {
     "end_time": "2024-03-17T17:40:03.298699Z",
     "start_time": "2024-03-17T17:40:03.295466Z"
    }
   },
   "id": "61d0b2b52a4efe12",
   "execution_count": 25
  }
 ],
 "metadata": {
  "kernelspec": {
   "display_name": "Python 3",
   "language": "python",
   "name": "python3"
  },
  "language_info": {
   "codemirror_mode": {
    "name": "ipython",
    "version": 2
   },
   "file_extension": ".py",
   "mimetype": "text/x-python",
   "name": "python",
   "nbconvert_exporter": "python",
   "pygments_lexer": "ipython2",
   "version": "2.7.6"
  }
 },
 "nbformat": 4,
 "nbformat_minor": 5
}
