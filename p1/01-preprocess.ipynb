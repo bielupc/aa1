{
 "cells": [
  {
   "cell_type": "markdown",
   "metadata": {
    "id": "ch-TRxAFSQf7"
   },
   "source": [
    "# AA1 lab 01 - Data preprocessing"
   ]
  },
  {
   "cell_type": "code",
   "execution_count": 1,
   "metadata": {
    "colab": {
     "base_uri": "https://localhost:8080/"
    },
    "executionInfo": {
     "elapsed": 419,
     "status": "ok",
     "timestamp": 1708093340787,
     "user": {
      "displayName": "Marta Arias Vicente",
      "userId": "13874328413650848050"
     },
     "user_tz": -60
    },
    "id": "mmXTUNp3SQf_",
    "outputId": "8e5a301b-525a-469e-fb71-1f9e103ea46f",
    "ExecuteTime": {
     "end_time": "2024-02-19T09:21:11.677046Z",
     "start_time": "2024-02-19T09:21:11.656293Z"
    }
   },
   "outputs": [],
   "source": [
    "%load_ext autoreload"
   ]
  },
  {
   "cell_type": "code",
   "execution_count": 12,
   "metadata": {
    "executionInfo": {
     "elapsed": 17,
     "status": "ok",
     "timestamp": 1708093341394,
     "user": {
      "displayName": "Marta Arias Vicente",
      "userId": "13874328413650848050"
     },
     "user_tz": -60
    },
    "id": "F-Ovx5E8SQgA",
    "ExecuteTime": {
     "end_time": "2024-02-19T09:15:40.805261Z",
     "start_time": "2024-02-19T09:15:40.783453Z"
    }
   },
   "outputs": [],
   "source": [
    "# Uncomment to upgrade packages\n",
    "#!pip3 install pandas --user --upgrade --quiet\n",
    "#!pip3 install numpy --user --upgrade --quiet\n",
    "#!pip3 install scipy --user --upgrade --quiet\n",
    "#!pip3 install seaborn --user --upgrade --quiet\n",
    "#!pip3 install statsmodels --user --upgrade --quiet"
   ]
  },
  {
   "cell_type": "code",
   "execution_count": 2,
   "metadata": {
    "executionInfo": {
     "elapsed": 16,
     "status": "ok",
     "timestamp": 1708093341394,
     "user": {
      "displayName": "Marta Arias Vicente",
      "userId": "13874328413650848050"
     },
     "user_tz": -60
    },
    "id": "DTPDQlDmSQgB",
    "ExecuteTime": {
     "end_time": "2024-02-19T09:21:12.053872Z",
     "start_time": "2024-02-19T09:21:12.050226Z"
    }
   },
   "outputs": [],
   "source": [
    "#%matplotlib notebook\n",
    "import numpy as np\n",
    "import matplotlib.pyplot as plt\n",
    "import seaborn as sn\n",
    "import pandas as pd\n",
    "from collections import Counter\n",
    "from IPython.core.interactiveshell import InteractiveShell\n",
    "InteractiveShell.ast_node_interactivity = \"all\"\n",
    "pd.set_option('display.precision', 3)"
   ]
  },
  {
   "cell_type": "code",
   "execution_count": 3,
   "metadata": {
    "executionInfo": {
     "elapsed": 16,
     "status": "ok",
     "timestamp": 1708093341394,
     "user": {
      "displayName": "Marta Arias Vicente",
      "userId": "13874328413650848050"
     },
     "user_tz": -60
    },
    "id": "2NpsSq_mSQgB",
    "ExecuteTime": {
     "end_time": "2024-02-19T09:21:13.514807Z",
     "start_time": "2024-02-19T09:21:13.320306Z"
    }
   },
   "outputs": [],
   "source": [
    "# extra imports\n",
    "from pandas import read_csv\n",
    "from sklearn.neighbors import KNeighborsClassifier\n",
    "from sklearn.neighbors import LocalOutlierFactor\n",
    "from sklearn import preprocessing\n",
    "from pandas.plotting import scatter_matrix\n",
    "from scipy.stats import boxcox\n",
    "from statsmodels.genmod.generalized_linear_model import GLM"
   ]
  },
  {
   "cell_type": "code",
   "execution_count": 4,
   "metadata": {
    "colab": {
     "base_uri": "https://localhost:8080/",
     "height": 35
    },
    "executionInfo": {
     "elapsed": 15,
     "status": "ok",
     "timestamp": 1708093341394,
     "user": {
      "displayName": "Marta Arias Vicente",
      "userId": "13874328413650848050"
     },
     "user_tz": -60
    },
    "id": "s2Lp6oHcSQgC",
    "outputId": "60f9f31d-f81f-47ec-8831-67df82e969e2",
    "ExecuteTime": {
     "end_time": "2024-02-19T09:21:16.298115Z",
     "start_time": "2024-02-19T09:21:16.293250Z"
    }
   },
   "outputs": [
    {
     "data": {
      "text/plain": "'2.0.3'"
     },
     "execution_count": 4,
     "metadata": {},
     "output_type": "execute_result"
    }
   ],
   "source": [
    "pd.__version__"
   ]
  },
  {
   "cell_type": "markdown",
   "metadata": {
    "id": "pye8OiU6SQgD"
   },
   "source": [
    "## SECTION 1: READING THE FILE CREDSCO.TXT (loan data: credit scoring)"
   ]
  },
  {
   "cell_type": "markdown",
   "metadata": {
    "id": "5Js35Wf0SQgD"
   },
   "source": [
    " Reading properly a data set is non-trivial because you need to know\n",
    " its data format: decimal separator, column separator, is there a\n",
    " header? how are strings quoted? how (if any) are missing values\n",
    " coded? should character vectors be converted to factors? should\n",
    " white spaces be stripped?, ...)\n",
    "\n",
    " It is a good idea to consult  [pandas.read_csv](https://pandas.pydata.org/pandas-docs/stable/generated/pandas.read_csv.html)  and play with useful control parameters.\n",
    "\n",
    " after opening the file `credsco.csv` and inspecting it, we decide the following settings:"
   ]
  },
  {
   "cell_type": "code",
   "execution_count": 12,
   "metadata": {
    "colab": {
     "base_uri": "https://localhost:8080/"
    },
    "executionInfo": {
     "elapsed": 14,
     "status": "ok",
     "timestamp": 1708093341394,
     "user": {
      "displayName": "Marta Arias Vicente",
      "userId": "13874328413650848050"
     },
     "user_tz": -60
    },
    "id": "ata8eZWlSQgD",
    "outputId": "e7561d51-c37a-43f9-9be0-8656db91fe72",
    "ExecuteTime": {
     "end_time": "2024-02-19T09:29:23.863906Z",
     "start_time": "2024-02-19T09:29:23.852859Z"
    }
   },
   "outputs": [
    {
     "data": {
      "text/plain": "(4455, 14)"
     },
     "execution_count": 12,
     "metadata": {},
     "output_type": "execute_result"
    }
   ],
   "source": [
    "Credit = read_csv(\"credsco.csv\", header=0, delimiter=',')\n",
    "Credit.shape"
   ]
  },
  {
   "cell_type": "markdown",
   "metadata": {
    "id": "mCbG7tEKSQgE"
   },
   "source": [
    " Basic questions:\n",
    "\n",
    "* Which is the target variable? where is it? how many different values? is it a classification problem or a regression problem?\n",
    "\n",
    "* *answers:* the target variable is located in column 1 and is called 'Assessment'; it has two possible values (therfore it is a classification problem)"
   ]
  },
  {
   "cell_type": "markdown",
   "metadata": {
    "id": "G84hUjCiSQgE"
   },
   "source": [
    "What are the other variables?"
   ]
  },
  {
   "cell_type": "code",
   "execution_count": 16,
   "metadata": {
    "colab": {
     "base_uri": "https://localhost:8080/"
    },
    "executionInfo": {
     "elapsed": 13,
     "status": "ok",
     "timestamp": 1708093341395,
     "user": {
      "displayName": "Marta Arias Vicente",
      "userId": "13874328413650848050"
     },
     "user_tz": -60
    },
    "id": "BoN0LH07SQgE",
    "outputId": "d1999293-06c9-4952-9eef-972bec116065",
    "ExecuteTime": {
     "end_time": "2024-02-19T09:30:53.658357Z",
     "start_time": "2024-02-19T09:30:53.652909Z"
    }
   },
   "outputs": [
    {
     "data": {
      "text/plain": "Index(['Assessment', 'YearsInJob', 'Housing', 'Deadline', 'Age',\n       'MaritalStatus', 'Records', 'TypeOfJob', 'Expenses', 'Income',\n       'Capital', 'ChargesOnCapital', 'AmountRequested', 'MarketPrice'],\n      dtype='object')"
     },
     "execution_count": 16,
     "metadata": {},
     "output_type": "execute_result"
    }
   ],
   "source": [
    "Credit.columns"
   ]
  },
  {
   "cell_type": "code",
   "execution_count": 13,
   "metadata": {
    "colab": {
     "base_uri": "https://localhost:8080/",
     "height": 195
    },
    "executionInfo": {
     "elapsed": 12,
     "status": "ok",
     "timestamp": 1708093341395,
     "user": {
      "displayName": "Marta Arias Vicente",
      "userId": "13874328413650848050"
     },
     "user_tz": -60
    },
    "id": "vZCZ4Yf7SQgE",
    "outputId": "4163dd59-4976-487f-9428-a550452eabdc",
    "ExecuteTime": {
     "end_time": "2024-02-19T09:29:27.734099Z",
     "start_time": "2024-02-19T09:29:27.725813Z"
    }
   },
   "outputs": [
    {
     "data": {
      "text/plain": "   Assessment  YearsInJob  Housing  Deadline  Age  MaritalStatus  Records  \\\n0           1           9        1        60   30              2        1   \n1           1          17        1        60   58              3        1   \n2           2          10        2        36   46              2        2   \n3           1           0        1        60   24              1        1   \n\n   TypeOfJob  Expenses  Income  Capital  ChargesOnCapital  AmountRequested  \\\n0          3        73     129        0                 0              800   \n1          1        48     131        0                 0             1000   \n2          3        90     200     3000                 0             2000   \n3          1        63     182     2500                 0              900   \n\n   MarketPrice  \n0          846  \n1         1658  \n2         2985  \n3         1325  ",
      "text/html": "<div>\n<style scoped>\n    .dataframe tbody tr th:only-of-type {\n        vertical-align: middle;\n    }\n\n    .dataframe tbody tr th {\n        vertical-align: top;\n    }\n\n    .dataframe thead th {\n        text-align: right;\n    }\n</style>\n<table border=\"1\" class=\"dataframe\">\n  <thead>\n    <tr style=\"text-align: right;\">\n      <th></th>\n      <th>Assessment</th>\n      <th>YearsInJob</th>\n      <th>Housing</th>\n      <th>Deadline</th>\n      <th>Age</th>\n      <th>MaritalStatus</th>\n      <th>Records</th>\n      <th>TypeOfJob</th>\n      <th>Expenses</th>\n      <th>Income</th>\n      <th>Capital</th>\n      <th>ChargesOnCapital</th>\n      <th>AmountRequested</th>\n      <th>MarketPrice</th>\n    </tr>\n  </thead>\n  <tbody>\n    <tr>\n      <th>0</th>\n      <td>1</td>\n      <td>9</td>\n      <td>1</td>\n      <td>60</td>\n      <td>30</td>\n      <td>2</td>\n      <td>1</td>\n      <td>3</td>\n      <td>73</td>\n      <td>129</td>\n      <td>0</td>\n      <td>0</td>\n      <td>800</td>\n      <td>846</td>\n    </tr>\n    <tr>\n      <th>1</th>\n      <td>1</td>\n      <td>17</td>\n      <td>1</td>\n      <td>60</td>\n      <td>58</td>\n      <td>3</td>\n      <td>1</td>\n      <td>1</td>\n      <td>48</td>\n      <td>131</td>\n      <td>0</td>\n      <td>0</td>\n      <td>1000</td>\n      <td>1658</td>\n    </tr>\n    <tr>\n      <th>2</th>\n      <td>2</td>\n      <td>10</td>\n      <td>2</td>\n      <td>36</td>\n      <td>46</td>\n      <td>2</td>\n      <td>2</td>\n      <td>3</td>\n      <td>90</td>\n      <td>200</td>\n      <td>3000</td>\n      <td>0</td>\n      <td>2000</td>\n      <td>2985</td>\n    </tr>\n    <tr>\n      <th>3</th>\n      <td>1</td>\n      <td>0</td>\n      <td>1</td>\n      <td>60</td>\n      <td>24</td>\n      <td>1</td>\n      <td>1</td>\n      <td>1</td>\n      <td>63</td>\n      <td>182</td>\n      <td>2500</td>\n      <td>0</td>\n      <td>900</td>\n      <td>1325</td>\n    </tr>\n  </tbody>\n</table>\n</div>"
     },
     "execution_count": 13,
     "metadata": {},
     "output_type": "execute_result"
    }
   ],
   "source": [
    "Credit[:4]"
   ]
  },
  {
   "cell_type": "markdown",
   "metadata": {
    "id": "QGfAiP3bSQgF"
   },
   "source": [
    "inspect predictive variables 4, 5, 6 and 7 for the first example"
   ]
  },
  {
   "cell_type": "code",
   "execution_count": 14,
   "metadata": {
    "colab": {
     "base_uri": "https://localhost:8080/"
    },
    "executionInfo": {
     "elapsed": 11,
     "status": "ok",
     "timestamp": 1708093341395,
     "user": {
      "displayName": "Marta Arias Vicente",
      "userId": "13874328413650848050"
     },
     "user_tz": -60
    },
    "id": "5jIYpIkOSQgF",
    "outputId": "e1592d3a-44d0-4548-f8df-654d00ebdea9",
    "ExecuteTime": {
     "end_time": "2024-02-19T09:30:42.688242Z",
     "start_time": "2024-02-19T09:30:42.680869Z"
    }
   },
   "outputs": [
    {
     "data": {
      "text/plain": "Age              30\nMaritalStatus     2\nRecords           1\nTypeOfJob         3\nName: 0, dtype: int64"
     },
     "execution_count": 14,
     "metadata": {},
     "output_type": "execute_result"
    }
   ],
   "source": [
    "Credit.iloc[0,4:8]"
   ]
  },
  {
   "cell_type": "markdown",
   "metadata": {
    "id": "d_VDd1nISQgF"
   },
   "source": [
    "Alternatively you can use the variable names"
   ]
  },
  {
   "cell_type": "code",
   "execution_count": 15,
   "metadata": {
    "colab": {
     "base_uri": "https://localhost:8080/"
    },
    "executionInfo": {
     "elapsed": 9,
     "status": "ok",
     "timestamp": 1708093341395,
     "user": {
      "displayName": "Marta Arias Vicente",
      "userId": "13874328413650848050"
     },
     "user_tz": -60
    },
    "id": "98YX6LJFSQgF",
    "outputId": "90704deb-864d-48f0-dd43-4366c65ef796",
    "ExecuteTime": {
     "end_time": "2024-02-19T09:30:48.988010Z",
     "start_time": "2024-02-19T09:30:48.980304Z"
    }
   },
   "outputs": [
    {
     "data": {
      "text/plain": "Age              30\nMaritalStatus     2\nRecords           1\nTypeOfJob         3\nName: 0, dtype: int64"
     },
     "execution_count": 15,
     "metadata": {},
     "output_type": "execute_result"
    }
   ],
   "source": [
    "Credit.loc[0,'Age':'TypeOfJob']"
   ]
  },
  {
   "cell_type": "markdown",
   "metadata": {
    "id": "CSBMlCoUSQgF"
   },
   "source": [
    "***\n",
    "## SECTION 2: BASIC INSPECTION OF THE DATASET"
   ]
  },
  {
   "cell_type": "markdown",
   "metadata": {
    "id": "IEwqHG4cSQgG"
   },
   "source": [
    "Perform a basic inspection of the dataset. Have a look at the minimum and maximum values for each variable; find possible errors and abnormal values (outliers); find possible missing values; decide which variables are continuous and which are categorical; if there are mixed types, we have three options: recode continuous to categorical, recode categorical to continuous or leave them as they are. In the latter case, either the method accepts both kinds of information, or it does not, in which case python will convert the categorical ones to continuous using a dummy code."
   ]
  },
  {
   "cell_type": "code",
   "execution_count": 17,
   "metadata": {
    "colab": {
     "base_uri": "https://localhost:8080/",
     "height": 320
    },
    "executionInfo": {
     "elapsed": 288,
     "status": "ok",
     "timestamp": 1708093341675,
     "user": {
      "displayName": "Marta Arias Vicente",
      "userId": "13874328413650848050"
     },
     "user_tz": -60
    },
    "id": "6uXTuOV5SQgG",
    "outputId": "9144b74a-6675-4ce8-c70f-0baa9145660e",
    "ExecuteTime": {
     "end_time": "2024-02-19T09:31:00.135416Z",
     "start_time": "2024-02-19T09:31:00.103991Z"
    }
   },
   "outputs": [
    {
     "data": {
      "text/plain": "       Assessment  YearsInJob   Housing  Deadline       Age  MaritalStatus  \\\ncount    4455.000    4455.000  4455.000  4455.000  4455.000       4455.000   \nmean        1.281       7.987     2.657    46.442    37.078          1.879   \nstd         0.450       8.173     1.610    14.655    10.985          0.644   \nmin         0.000       0.000     0.000     6.000    18.000          0.000   \n25%         1.000       2.000     2.000    36.000    28.000          2.000   \n50%         1.000       5.000     2.000    48.000    36.000          2.000   \n75%         2.000      12.000     4.000    60.000    45.000          2.000   \nmax         2.000      48.000     6.000    72.000    68.000          5.000   \n\n        Records  TypeOfJob  Expenses     Income    Capital  ChargesOnCapital  \\\ncount  4455.000   4455.000  4455.000  4.455e+03  4.455e+03         4.455e+03   \nmean      1.174      1.676    55.569  7.633e+05  1.060e+06         4.044e+05   \nstd       0.379      0.954    19.516  8.704e+06  1.022e+07         6.344e+06   \nmin       1.000      0.000    35.000  0.000e+00  0.000e+00         0.000e+00   \n25%       1.000      1.000    35.000  8.000e+01  0.000e+00         0.000e+00   \n50%       1.000      1.000    51.000  1.200e+02  3.500e+03         0.000e+00   \n75%       1.000      3.000    72.000  1.660e+02  6.000e+03         0.000e+00   \nmax       2.000      4.000   180.000  1.000e+08  1.000e+08         1.000e+08   \n\n       AmountRequested  MarketPrice  \ncount         4455.000     4455.000  \nmean          1039.022     1462.876  \nstd            474.543      628.090  \nmin            100.000      105.000  \n25%            700.000     1117.500  \n50%           1000.000     1400.000  \n75%           1300.000     1692.000  \nmax           5000.000    11140.000  ",
      "text/html": "<div>\n<style scoped>\n    .dataframe tbody tr th:only-of-type {\n        vertical-align: middle;\n    }\n\n    .dataframe tbody tr th {\n        vertical-align: top;\n    }\n\n    .dataframe thead th {\n        text-align: right;\n    }\n</style>\n<table border=\"1\" class=\"dataframe\">\n  <thead>\n    <tr style=\"text-align: right;\">\n      <th></th>\n      <th>Assessment</th>\n      <th>YearsInJob</th>\n      <th>Housing</th>\n      <th>Deadline</th>\n      <th>Age</th>\n      <th>MaritalStatus</th>\n      <th>Records</th>\n      <th>TypeOfJob</th>\n      <th>Expenses</th>\n      <th>Income</th>\n      <th>Capital</th>\n      <th>ChargesOnCapital</th>\n      <th>AmountRequested</th>\n      <th>MarketPrice</th>\n    </tr>\n  </thead>\n  <tbody>\n    <tr>\n      <th>count</th>\n      <td>4455.000</td>\n      <td>4455.000</td>\n      <td>4455.000</td>\n      <td>4455.000</td>\n      <td>4455.000</td>\n      <td>4455.000</td>\n      <td>4455.000</td>\n      <td>4455.000</td>\n      <td>4455.000</td>\n      <td>4.455e+03</td>\n      <td>4.455e+03</td>\n      <td>4.455e+03</td>\n      <td>4455.000</td>\n      <td>4455.000</td>\n    </tr>\n    <tr>\n      <th>mean</th>\n      <td>1.281</td>\n      <td>7.987</td>\n      <td>2.657</td>\n      <td>46.442</td>\n      <td>37.078</td>\n      <td>1.879</td>\n      <td>1.174</td>\n      <td>1.676</td>\n      <td>55.569</td>\n      <td>7.633e+05</td>\n      <td>1.060e+06</td>\n      <td>4.044e+05</td>\n      <td>1039.022</td>\n      <td>1462.876</td>\n    </tr>\n    <tr>\n      <th>std</th>\n      <td>0.450</td>\n      <td>8.173</td>\n      <td>1.610</td>\n      <td>14.655</td>\n      <td>10.985</td>\n      <td>0.644</td>\n      <td>0.379</td>\n      <td>0.954</td>\n      <td>19.516</td>\n      <td>8.704e+06</td>\n      <td>1.022e+07</td>\n      <td>6.344e+06</td>\n      <td>474.543</td>\n      <td>628.090</td>\n    </tr>\n    <tr>\n      <th>min</th>\n      <td>0.000</td>\n      <td>0.000</td>\n      <td>0.000</td>\n      <td>6.000</td>\n      <td>18.000</td>\n      <td>0.000</td>\n      <td>1.000</td>\n      <td>0.000</td>\n      <td>35.000</td>\n      <td>0.000e+00</td>\n      <td>0.000e+00</td>\n      <td>0.000e+00</td>\n      <td>100.000</td>\n      <td>105.000</td>\n    </tr>\n    <tr>\n      <th>25%</th>\n      <td>1.000</td>\n      <td>2.000</td>\n      <td>2.000</td>\n      <td>36.000</td>\n      <td>28.000</td>\n      <td>2.000</td>\n      <td>1.000</td>\n      <td>1.000</td>\n      <td>35.000</td>\n      <td>8.000e+01</td>\n      <td>0.000e+00</td>\n      <td>0.000e+00</td>\n      <td>700.000</td>\n      <td>1117.500</td>\n    </tr>\n    <tr>\n      <th>50%</th>\n      <td>1.000</td>\n      <td>5.000</td>\n      <td>2.000</td>\n      <td>48.000</td>\n      <td>36.000</td>\n      <td>2.000</td>\n      <td>1.000</td>\n      <td>1.000</td>\n      <td>51.000</td>\n      <td>1.200e+02</td>\n      <td>3.500e+03</td>\n      <td>0.000e+00</td>\n      <td>1000.000</td>\n      <td>1400.000</td>\n    </tr>\n    <tr>\n      <th>75%</th>\n      <td>2.000</td>\n      <td>12.000</td>\n      <td>4.000</td>\n      <td>60.000</td>\n      <td>45.000</td>\n      <td>2.000</td>\n      <td>1.000</td>\n      <td>3.000</td>\n      <td>72.000</td>\n      <td>1.660e+02</td>\n      <td>6.000e+03</td>\n      <td>0.000e+00</td>\n      <td>1300.000</td>\n      <td>1692.000</td>\n    </tr>\n    <tr>\n      <th>max</th>\n      <td>2.000</td>\n      <td>48.000</td>\n      <td>6.000</td>\n      <td>72.000</td>\n      <td>68.000</td>\n      <td>5.000</td>\n      <td>2.000</td>\n      <td>4.000</td>\n      <td>180.000</td>\n      <td>1.000e+08</td>\n      <td>1.000e+08</td>\n      <td>1.000e+08</td>\n      <td>5000.000</td>\n      <td>11140.000</td>\n    </tr>\n  </tbody>\n</table>\n</div>"
     },
     "execution_count": 17,
     "metadata": {},
     "output_type": "execute_result"
    }
   ],
   "source": [
    "Credit.describe()"
   ]
  },
  {
   "cell_type": "markdown",
   "metadata": {
    "id": "sQ-ilUx-SQgG"
   },
   "source": [
    " `Assessment`,`Housing`,`MaritalStatus`,`Records`,`TypeOfJob` are categorical and need to be treated properly\n",
    "\n",
    " In particular, `Assessment` is the target variable; we need to identify correct values\n",
    "\n",
    " `Capital`, `ChargesOnCapital` and `Income` present abnormally high maximums (99999999)\n",
    "\n",
    " There are also suspicious zeros, in both types of variables, which we identify with missing values"
   ]
  },
  {
   "cell_type": "code",
   "execution_count": 18,
   "metadata": {
    "colab": {
     "base_uri": "https://localhost:8080/"
    },
    "executionInfo": {
     "elapsed": 10,
     "status": "ok",
     "timestamp": 1708093341675,
     "user": {
      "displayName": "Marta Arias Vicente",
      "userId": "13874328413650848050"
     },
     "user_tz": -60
    },
    "id": "cOpn7PkUSQgG",
    "outputId": "d05ac5e9-6562-4efe-ddb7-f93180de90b5",
    "ExecuteTime": {
     "end_time": "2024-02-19T09:34:08.453930Z",
     "start_time": "2024-02-19T09:34:08.449036Z"
    }
   },
   "outputs": [
    {
     "data": {
      "text/plain": "Assessment\n1    3200\n2    1254\n0       1\nName: count, dtype: int64"
     },
     "execution_count": 18,
     "metadata": {},
     "output_type": "execute_result"
    }
   ],
   "source": [
    "Credit['Assessment'].value_counts()"
   ]
  },
  {
   "cell_type": "markdown",
   "metadata": {
    "id": "5VJ6IUYwSQgG"
   },
   "source": [
    "## SECTION 3: DEALING WITH MISSING VALUES"
   ]
  },
  {
   "cell_type": "markdown",
   "metadata": {
    "id": "VsV9ARabSQgG"
   },
   "source": [
    "Sometimes we need to take a decision on a sensible treatment for the missing values and apply it; it is wise to write down the possible consequences of this decision and the alternatives that could be considered in case the final results are not satisfactory"
   ]
  },
  {
   "cell_type": "markdown",
   "metadata": {
    "id": "mAN4MTH9SQgH"
   },
   "source": [
    "the easiest way is of course to eliminate the involved rows or\n",
    "columns; this can be done partially. For example, we could decide to\n",
    "eliminate the variables with the highest proportion of missing values.\n",
    "\n",
    "Deleting instances and/or variables containing missing values results\n",
    "in loss of relevant data and is also frustrating because of the effort\n",
    "in collecting the sacrificed information.\n",
    "\n",
    "<div class=\"alert alert-block alert-warning\">\n",
    "CAREFUL! python does not know magically which entries are missing values: they have to be explicitly declared as NA's\n",
    "</div>\n",
    "\n",
    "therefore this code is not useful:"
   ]
  },
  {
   "cell_type": "code",
   "execution_count": 19,
   "metadata": {
    "colab": {
     "base_uri": "https://localhost:8080/"
    },
    "executionInfo": {
     "elapsed": 8,
     "status": "ok",
     "timestamp": 1708093341675,
     "user": {
      "displayName": "Marta Arias Vicente",
      "userId": "13874328413650848050"
     },
     "user_tz": -60
    },
    "id": "jfHXdh3SSQgH",
    "outputId": "dfd8dbe3-d272-4e2e-8e92-f1f282da203b",
    "ExecuteTime": {
     "end_time": "2024-02-19T09:37:15.467031Z",
     "start_time": "2024-02-19T09:37:15.461020Z"
    }
   },
   "outputs": [
    {
     "data": {
      "text/plain": "(4455, 14)"
     },
     "execution_count": 19,
     "metadata": {},
     "output_type": "execute_result"
    }
   ],
   "source": [
    "Credit_complete = Credit.dropna()\n",
    "Credit_complete.shape"
   ]
  },
  {
   "cell_type": "markdown",
   "metadata": {
    "id": "RWb1kj-vSQgH"
   },
   "source": [
    " the previous code does nothing! (but it seems it does)\n",
    "\n",
    " In the present case we have decided to perform a step-by-step treatment, separate for the categorical and continuous information\n",
    "\n",
    " We first decide to remove those rows with with missing values in the categorical variables (there are few)"
   ]
  },
  {
   "cell_type": "code",
   "execution_count": 20,
   "metadata": {
    "colab": {
     "base_uri": "https://localhost:8080/"
    },
    "executionInfo": {
     "elapsed": 8,
     "status": "ok",
     "timestamp": 1708093341676,
     "user": {
      "displayName": "Marta Arias Vicente",
      "userId": "13874328413650848050"
     },
     "user_tz": -60
    },
    "id": "wkKut4h2SQgH",
    "outputId": "84224a1a-c4a9-438b-8645-ef24298a431f",
    "ExecuteTime": {
     "end_time": "2024-02-19T09:37:30.367195Z",
     "start_time": "2024-02-19T09:37:30.347498Z"
    }
   },
   "outputs": [
    {
     "data": {
      "text/plain": "Assessment\nFalse    4454\nTrue        1\nName: count, dtype: int64"
     },
     "execution_count": 20,
     "metadata": {},
     "output_type": "execute_result"
    },
    {
     "data": {
      "text/plain": "Housing\nFalse    4449\nTrue        6\nName: count, dtype: int64"
     },
     "execution_count": 20,
     "metadata": {},
     "output_type": "execute_result"
    },
    {
     "data": {
      "text/plain": "MaritalStatus\nFalse    4454\nTrue        1\nName: count, dtype: int64"
     },
     "execution_count": 20,
     "metadata": {},
     "output_type": "execute_result"
    },
    {
     "data": {
      "text/plain": "TypeOfJob\nFalse    4453\nTrue        2\nName: count, dtype: int64"
     },
     "execution_count": 20,
     "metadata": {},
     "output_type": "execute_result"
    }
   ],
   "source": [
    "(Credit.Assessment==0).value_counts()\n",
    "(Credit.Housing==0).value_counts()\n",
    "(Credit.MaritalStatus==0).value_counts()\n",
    "(Credit.TypeOfJob==0).value_counts()"
   ]
  },
  {
   "cell_type": "code",
   "execution_count": 101,
   "metadata": {
    "colab": {
     "base_uri": "https://localhost:8080/"
    },
    "executionInfo": {
     "elapsed": 7,
     "status": "ok",
     "timestamp": 1708093341676,
     "user": {
      "displayName": "Marta Arias Vicente",
      "userId": "13874328413650848050"
     },
     "user_tz": -60
    },
    "id": "sZa9FQ5_SQgH",
    "outputId": "b0a7e46d-6eb3-43a1-ba83-6d7887f9378b"
   },
   "outputs": [
    {
     "data": {
      "text/plain": [
       "(4446, 14)"
      ]
     },
     "execution_count": 101,
     "metadata": {},
     "output_type": "execute_result"
    }
   ],
   "source": [
    "Credit=  Credit[(Credit.Assessment!=0) & (Credit.Housing!=0)\n",
    "                &(Credit.MaritalStatus!=0)&(Credit.TypeOfJob!=0)]\n",
    "Credit.shape"
   ]
  },
  {
   "cell_type": "markdown",
   "metadata": {
    "id": "7HahPXZVSQgH"
   },
   "source": [
    " Process rows with missing values in the continuous variables (code 99999999)"
   ]
  },
  {
   "cell_type": "markdown",
   "metadata": {
    "id": "MwSwn3RlSQgI"
   },
   "source": [
    " look at that:"
   ]
  },
  {
   "cell_type": "code",
   "execution_count": 21,
   "metadata": {
    "colab": {
     "base_uri": "https://localhost:8080/",
     "height": 694
    },
    "executionInfo": {
     "elapsed": 402,
     "status": "ok",
     "timestamp": 1708093342073,
     "user": {
      "displayName": "Marta Arias Vicente",
      "userId": "13874328413650848050"
     },
     "user_tz": -60
    },
    "id": "HJieIGSiSQgI",
    "outputId": "5be9d5e6-fd9d-4a5e-d5dc-3317a0b2486c",
    "ExecuteTime": {
     "end_time": "2024-02-19T09:40:22.557563Z",
     "start_time": "2024-02-19T09:40:22.283202Z"
    }
   },
   "outputs": [
    {
     "data": {
      "text/plain": "<Figure size 800x800 with 1 Axes>",
      "image/png": "[encoded data removed]"
     },
     "metadata": {},
     "output_type": "display_data"
    }
   ],
   "source": [
    "Credit.Income.hist(figsize=(8,8));"
   ]
  },
  {
   "cell_type": "code",
   "execution_count": 23,
   "metadata": {
    "colab": {
     "base_uri": "https://localhost:8080/",
     "height": 676
    },
    "executionInfo": {
     "elapsed": 310,
     "status": "ok",
     "timestamp": 1708093342380,
     "user": {
      "displayName": "Marta Arias Vicente",
      "userId": "13874328413650848050"
     },
     "user_tz": -60
    },
    "id": "1iQNS9HhSQgI",
    "outputId": "27499511-7290-454f-cc84-e0e6b31ee6b2",
    "ExecuteTime": {
     "end_time": "2024-02-19T09:40:36.272389Z",
     "start_time": "2024-02-19T09:40:36.028643Z"
    }
   },
   "outputs": [
    {
     "data": {
      "text/plain": "<Figure size 800x800 with 1 Axes>",
      "image/png": "[encoded data removed]"
     },
     "metadata": {},
     "output_type": "display_data"
    }
   ],
   "source": [
    "Credit.Income[Credit.Income!=99999999].hist(figsize=(8,8));"
   ]
  },
  {
   "cell_type": "code",
   "execution_count": 24,
   "metadata": {
    "colab": {
     "base_uri": "https://localhost:8080/",
     "height": 676
    },
    "executionInfo": {
     "elapsed": 9,
     "status": "ok",
     "timestamp": 1708093342380,
     "user": {
      "displayName": "Marta Arias Vicente",
      "userId": "13874328413650848050"
     },
     "user_tz": -60
    },
    "id": "QVql1rezSQgI",
    "outputId": "a6b1e075-90e7-45ad-c7d1-d5fb57616965",
    "ExecuteTime": {
     "end_time": "2024-02-19T09:40:39.473517Z",
     "start_time": "2024-02-19T09:40:39.303632Z"
    }
   },
   "outputs": [
    {
     "data": {
      "text/plain": "<Figure size 800x800 with 1 Axes>",
      "image/png": "[encoded data removed]"
     },
     "metadata": {},
     "output_type": "display_data"
    }
   ],
   "source": [
    "Credit.Income[(Credit.Income!=99999999)&\n",
    "              (Credit.Income!=0)].hist(bins=15,figsize=(8,8));"
   ]
  },
  {
   "cell_type": "markdown",
   "metadata": {
    "id": "OLSqBYFRSQgI"
   },
   "source": [
    " these are then clearly incorrect"
   ]
  },
  {
   "cell_type": "code",
   "execution_count": 25,
   "metadata": {
    "colab": {
     "base_uri": "https://localhost:8080/"
    },
    "executionInfo": {
     "elapsed": 8,
     "status": "ok",
     "timestamp": 1708093342380,
     "user": {
      "displayName": "Marta Arias Vicente",
      "userId": "13874328413650848050"
     },
     "user_tz": -60
    },
    "id": "XBfQG9LKSQgI",
    "outputId": "8a0c28ed-39c9-4beb-e278-a9090b922818",
    "ExecuteTime": {
     "end_time": "2024-02-19T09:41:05.130476Z",
     "start_time": "2024-02-19T09:41:05.117210Z"
    }
   },
   "outputs": [
    {
     "data": {
      "text/plain": "Income\nFalse    4421\nTrue       34\nName: count, dtype: int64"
     },
     "execution_count": 25,
     "metadata": {},
     "output_type": "execute_result"
    },
    {
     "data": {
      "text/plain": "Income\nFalse    4108\nTrue      347\nName: count, dtype: int64"
     },
     "execution_count": 25,
     "metadata": {},
     "output_type": "execute_result"
    },
    {
     "data": {
      "text/plain": "Capital\nFalse    4408\nTrue       47\nName: count, dtype: int64"
     },
     "execution_count": 25,
     "metadata": {},
     "output_type": "execute_result"
    },
    {
     "data": {
      "text/plain": "ChargesOnCapital\nFalse    4437\nTrue       18\nName: count, dtype: int64"
     },
     "execution_count": 25,
     "metadata": {},
     "output_type": "execute_result"
    }
   ],
   "source": [
    "(Credit.Income==99999999).value_counts()\n",
    "(Credit.Income==0).value_counts()\n",
    "(Credit.Capital==99999999).value_counts()\n",
    "(Credit.ChargesOnCapital==99999999).value_counts()"
   ]
  },
  {
   "cell_type": "code",
   "execution_count": 26,
   "metadata": {
    "colab": {
     "base_uri": "https://localhost:8080/"
    },
    "executionInfo": {
     "elapsed": 276,
     "status": "ok",
     "timestamp": 1708093342651,
     "user": {
      "displayName": "Marta Arias Vicente",
      "userId": "13874328413650848050"
     },
     "user_tz": -60
    },
    "id": "M2QTZ4fNSQgJ",
    "outputId": "cea1145c-63a1-4dd7-8557-fc8a239a8d04",
    "ExecuteTime": {
     "end_time": "2024-02-19T09:42:39.800132Z",
     "start_time": "2024-02-19T09:42:39.794722Z"
    }
   },
   "outputs": [
    {
     "data": {
      "text/plain": "Income\nFalse    4421\nTrue       34\nName: count, dtype: int64"
     },
     "execution_count": 26,
     "metadata": {},
     "output_type": "execute_result"
    }
   ],
   "source": [
    "(Credit.Income==99999999).value_counts()"
   ]
  },
  {
   "cell_type": "markdown",
   "metadata": {
    "id": "OoD7SuVaSQgJ"
   },
   "source": [
    " what do we do with this one? let's assume it is correct"
   ]
  },
  {
   "cell_type": "code",
   "execution_count": 27,
   "metadata": {
    "colab": {
     "base_uri": "https://localhost:8080/"
    },
    "executionInfo": {
     "elapsed": 16,
     "status": "ok",
     "timestamp": 1708093342652,
     "user": {
      "displayName": "Marta Arias Vicente",
      "userId": "13874328413650848050"
     },
     "user_tz": -60
    },
    "id": "XPcePSv7SQgJ",
    "outputId": "943bd344-85cc-42f1-d24a-0bed9a941c29",
    "ExecuteTime": {
     "end_time": "2024-02-19T09:42:41.477877Z",
     "start_time": "2024-02-19T09:42:41.472508Z"
    }
   },
   "outputs": [
    {
     "data": {
      "text/plain": "YearsInJob\nFalse    3920\nTrue      535\nName: count, dtype: int64"
     },
     "execution_count": 27,
     "metadata": {},
     "output_type": "execute_result"
    }
   ],
   "source": [
    "(Credit.YearsInJob==0).value_counts()"
   ]
  },
  {
   "cell_type": "markdown",
   "metadata": {
    "id": "63AEBK4PSQgN"
   },
   "source": [
    " Continuous variables have too many missing values, we can not eliminate them just like that: we must devise a treatment for these missing values\n",
    "\n",
    " first we mark them to 'NA', including those from no 'Income'"
   ]
  },
  {
   "cell_type": "code",
   "execution_count": 34,
   "metadata": {
    "executionInfo": {
     "elapsed": 14,
     "status": "ok",
     "timestamp": 1708093342652,
     "user": {
      "displayName": "Marta Arias Vicente",
      "userId": "13874328413650848050"
     },
     "user_tz": -60
    },
    "id": "XJvh-cqsSQgO",
    "ExecuteTime": {
     "end_time": "2024-02-19T09:42:48.095902Z",
     "start_time": "2024-02-19T09:42:48.090176Z"
    }
   },
   "outputs": [],
   "source": [
    "Credit.Income[(Credit.Income == 99999999) | (Credit.Income == 0)] = np.nan\n",
    "Credit.Capital[Credit.Capital == 99999999]  = np.nan\n",
    "Credit.ChargesOnCapital[Credit.ChargesOnCapital == 99999999]  = np.nan"
   ]
  },
  {
   "cell_type": "markdown",
   "metadata": {
    "id": "ncN8Z0x6SQgO"
   },
   "source": [
    "see the difference?"
   ]
  },
  {
   "cell_type": "code",
   "execution_count": 35,
   "metadata": {
    "colab": {
     "base_uri": "https://localhost:8080/"
    },
    "executionInfo": {
     "elapsed": 14,
     "status": "ok",
     "timestamp": 1708093342652,
     "user": {
      "displayName": "Marta Arias Vicente",
      "userId": "13874328413650848050"
     },
     "user_tz": -60
    },
    "id": "3MO1abP6SQgO",
    "outputId": "c371fc98-f389-4be9-e394-eb02cc6ad8f7",
    "ExecuteTime": {
     "end_time": "2024-02-19T09:42:49.775700Z",
     "start_time": "2024-02-19T09:42:49.769181Z"
    }
   },
   "outputs": [
    {
     "data": {
      "text/plain": "count    4074.000\nmean      141.689\nstd        80.739\nmin         6.000\n25%        90.000\n50%       125.000\n75%       170.000\nmax       959.000\nName: Income, dtype: float64"
     },
     "execution_count": 35,
     "metadata": {},
     "output_type": "execute_result"
    }
   ],
   "source": [
    "Credit.Income.describe()"
   ]
  },
  {
   "cell_type": "markdown",
   "metadata": {
    "id": "zuzm6_HiSQgO"
   },
   "source": [
    " The word 'imputation' refers to assigning a value to every missing value. Here we perform imputation by a method known as 1NN: for every individual with a missing 'Income', we look for the most similar individual (according to the remaining variables) and then copy its 'Income' value.\n",
    "\n",
    " As we can not have missing values in any column for computing the 1KNN we will make a classifier dropping the columns with missing values and training a classifier for each column\n"
   ]
  },
  {
   "cell_type": "code",
   "execution_count": 110,
   "metadata": {
    "colab": {
     "base_uri": "https://localhost:8080/"
    },
    "executionInfo": {
     "elapsed": 12,
     "status": "ok",
     "timestamp": 1708093342652,
     "user": {
      "displayName": "Marta Arias Vicente",
      "userId": "13874328413650848050"
     },
     "user_tz": -60
    },
    "id": "asRqxmqRSQgO",
    "outputId": "74824b13-7bcb-44c3-f828-e17518acb50f"
   },
   "outputs": [
    {
     "data": {
      "text/plain": [
       "(4446, 14)"
      ]
     },
     "execution_count": 110,
     "metadata": {},
     "output_type": "execute_result"
    }
   ],
   "source": [
    "Credit.shape"
   ]
  },
  {
   "cell_type": "code",
   "execution_count": 36,
   "metadata": {
    "colab": {
     "base_uri": "https://localhost:8080/"
    },
    "executionInfo": {
     "elapsed": 11,
     "status": "ok",
     "timestamp": 1708093342652,
     "user": {
      "displayName": "Marta Arias Vicente",
      "userId": "13874328413650848050"
     },
     "user_tz": -60
    },
    "id": "bRnsPcrwSQgO",
    "outputId": "cb5594ef-99d8-4b6e-c2c0-324b14cf6532",
    "ExecuteTime": {
     "end_time": "2024-02-19T09:49:45.235901Z",
     "start_time": "2024-02-19T09:49:45.224284Z"
    }
   },
   "outputs": [
    {
     "data": {
      "text/plain": "(4455, 11)"
     },
     "execution_count": 36,
     "metadata": {},
     "output_type": "execute_result"
    },
    {
     "data": {
      "text/plain": "(4041, 11)"
     },
     "execution_count": 36,
     "metadata": {},
     "output_type": "execute_result"
    },
    {
     "data": {
      "text/plain": "(381, 11)"
     },
     "execution_count": 36,
     "metadata": {},
     "output_type": "execute_result"
    }
   ],
   "source": [
    "subset_of_credit = Credit.drop(columns=['Income', 'Capital', 'ChargesOnCapital'])\n",
    "subset_of_credit.shape\n",
    "\n",
    "rows_not_missing = Credit.Income.notna() & Credit.Capital.notna() & Credit.ChargesOnCapital.notna()\n",
    "\n",
    "credit_without_missings = subset_of_credit[rows_not_missing]\n",
    "credit_without_missings.shape\n",
    "\n",
    "credit_where_income_has_missing_values = subset_of_credit[Credit.Income.isna()]\n",
    "credit_where_income_has_missing_values.shape"
   ]
  },
  {
   "cell_type": "markdown",
   "metadata": {
    "id": "OZqg7e69SQgP"
   },
   "source": [
    " Neither of credit_without_missings, credit_where_income_has_missing_values can contain NAs"
   ]
  },
  {
   "cell_type": "code",
   "execution_count": 37,
   "metadata": {
    "executionInfo": {
     "elapsed": 10,
     "status": "ok",
     "timestamp": 1708093342653,
     "user": {
      "displayName": "Marta Arias Vicente",
      "userId": "13874328413650848050"
     },
     "user_tz": -60
    },
    "id": "81aqOf6TSQgP",
    "ExecuteTime": {
     "end_time": "2024-02-19T09:49:47.044089Z",
     "start_time": "2024-02-19T09:49:47.027251Z"
    }
   },
   "outputs": [],
   "source": [
    "knn = KNeighborsClassifier(n_neighbors=1)\n",
    "knn.fit(credit_without_missings, Credit.Income[rows_not_missing])\n",
    "knn_inc = knn.predict(credit_where_income_has_missing_values);"
   ]
  },
  {
   "cell_type": "markdown",
   "metadata": {
    "id": "IfJxjolFSQgP"
   },
   "source": [
    " Imputation of 'Capital'"
   ]
  },
  {
   "cell_type": "code",
   "execution_count": 38,
   "metadata": {
    "executionInfo": {
     "elapsed": 10,
     "status": "ok",
     "timestamp": 1708093342653,
     "user": {
      "displayName": "Marta Arias Vicente",
      "userId": "13874328413650848050"
     },
     "user_tz": -60
    },
    "id": "PhirQiKBSQgP",
    "ExecuteTime": {
     "end_time": "2024-02-19T09:49:48.748446Z",
     "start_time": "2024-02-19T09:49:48.744135Z"
    }
   },
   "outputs": [],
   "source": [
    "capital_missing_values = subset_of_credit[Credit.Capital.isna()]"
   ]
  },
  {
   "cell_type": "code",
   "execution_count": 39,
   "metadata": {
    "colab": {
     "base_uri": "https://localhost:8080/",
     "height": 75
    },
    "executionInfo": {
     "elapsed": 10,
     "status": "ok",
     "timestamp": 1708093342653,
     "user": {
      "displayName": "Marta Arias Vicente",
      "userId": "13874328413650848050"
     },
     "user_tz": -60
    },
    "id": "0X7bDnv3SQgP",
    "outputId": "dc1f34d1-d129-4019-bcd5-38c72e8b3ad5",
    "ExecuteTime": {
     "end_time": "2024-02-19T09:49:49.624636Z",
     "start_time": "2024-02-19T09:49:49.610401Z"
    }
   },
   "outputs": [
    {
     "data": {
      "text/plain": "KNeighborsClassifier(n_neighbors=1)",
      "text/html": "<style>#sk-container-id-1 {color: black;}#sk-container-id-1 pre{padding: 0;}#sk-container-id-1 div.sk-toggleable {background-color: white;}#sk-container-id-1 label.sk-toggleable__label {cursor: pointer;display: block;width: 100%;margin-bottom: 0;padding: 0.3em;box-sizing: border-box;text-align: center;}#sk-container-id-1 label.sk-toggleable__label-arrow:before {content: \"▸\";float: left;margin-right: 0.25em;color: #696969;}#sk-container-id-1 label.sk-toggleable__label-arrow:hover:before {color: black;}#sk-container-id-1 div.sk-estimator:hover label.sk-toggleable__label-arrow:before {color: black;}#sk-container-id-1 div.sk-toggleable__content {max-height: 0;max-width: 0;overflow: hidden;text-align: left;background-color: #f0f8ff;}#sk-container-id-1 div.sk-toggleable__content pre {margin: 0.2em;color: black;border-radius: 0.25em;background-color: #f0f8ff;}#sk-container-id-1 input.sk-toggleable__control:checked~div.sk-toggleable__content {max-height: 200px;max-width: 100%;overflow: auto;}#sk-container-id-1 input.sk-toggleable__control:checked~label.sk-toggleable__label-arrow:before {content: \"▾\";}#sk-container-id-1 div.sk-estimator input.sk-toggleable__control:checked~label.sk-toggleable__label {background-color: #d4ebff;}#sk-container-id-1 div.sk-label input.sk-toggleable__control:checked~label.sk-toggleable__label {background-color: #d4ebff;}#sk-container-id-1 input.sk-hidden--visually {border: 0;clip: rect(1px 1px 1px 1px);clip: rect(1px, 1px, 1px, 1px);height: 1px;margin: -1px;overflow: hidden;padding: 0;position: absolute;width: 1px;}#sk-container-id-1 div.sk-estimator {font-family: monospace;background-color: #f0f8ff;border: 1px dotted black;border-radius: 0.25em;box-sizing: border-box;margin-bottom: 0.5em;}#sk-container-id-1 div.sk-estimator:hover {background-color: #d4ebff;}#sk-container-id-1 div.sk-parallel-item::after {content: \"\";width: 100%;border-bottom: 1px solid gray;flex-grow: 1;}#sk-container-id-1 div.sk-label:hover label.sk-toggleable__label {background-color: #d4ebff;}#sk-container-id-1 div.sk-serial::before {content: \"\";position: absolute;border-left: 1px solid gray;box-sizing: border-box;top: 0;bottom: 0;left: 50%;z-index: 0;}#sk-container-id-1 div.sk-serial {display: flex;flex-direction: column;align-items: center;background-color: white;padding-right: 0.2em;padding-left: 0.2em;position: relative;}#sk-container-id-1 div.sk-item {position: relative;z-index: 1;}#sk-container-id-1 div.sk-parallel {display: flex;align-items: stretch;justify-content: center;background-color: white;position: relative;}#sk-container-id-1 div.sk-item::before, #sk-container-id-1 div.sk-parallel-item::before {content: \"\";position: absolute;border-left: 1px solid gray;box-sizing: border-box;top: 0;bottom: 0;left: 50%;z-index: -1;}#sk-container-id-1 div.sk-parallel-item {display: flex;flex-direction: column;z-index: 1;position: relative;background-color: white;}#sk-container-id-1 div.sk-parallel-item:first-child::after {align-self: flex-end;width: 50%;}#sk-container-id-1 div.sk-parallel-item:last-child::after {align-self: flex-start;width: 50%;}#sk-container-id-1 div.sk-parallel-item:only-child::after {width: 0;}#sk-container-id-1 div.sk-dashed-wrapped {border: 1px dashed gray;margin: 0 0.4em 0.5em 0.4em;box-sizing: border-box;padding-bottom: 0.4em;background-color: white;}#sk-container-id-1 div.sk-label label {font-family: monospace;font-weight: bold;display: inline-block;line-height: 1.2em;}#sk-container-id-1 div.sk-label-container {text-align: center;}#sk-container-id-1 div.sk-container {/* jupyter's `normalize.less` sets `[hidden] { display: none; }` but bootstrap.min.css set `[hidden] { display: none !important; }` so we also need the `!important` here to be able to override the default hidden behavior on the sphinx rendered scikit-learn.org. See: https://github.com/scikit-learn/scikit-learn/issues/21755 */display: inline-block !important;position: relative;}#sk-container-id-1 div.sk-text-repr-fallback {display: none;}</style><div id=\"sk-container-id-1\" class=\"sk-top-container\"><div class=\"sk-text-repr-fallback\"><pre>KNeighborsClassifier(n_neighbors=1)</pre><b>In a Jupyter environment, please rerun this cell to show the HTML representation or trust the notebook. <br />On GitHub, the HTML representation is unable to render, please try loading this page with nbviewer.org.</b></div><div class=\"sk-container\" hidden><div class=\"sk-item\"><div class=\"sk-estimator sk-toggleable\"><input class=\"sk-toggleable__control sk-hidden--visually\" id=\"sk-estimator-id-1\" type=\"checkbox\" checked><label for=\"sk-estimator-id-1\" class=\"sk-toggleable__label sk-toggleable__label-arrow\">KNeighborsClassifier</label><div class=\"sk-toggleable__content\"><pre>KNeighborsClassifier(n_neighbors=1)</pre></div></div></div></div></div>"
     },
     "execution_count": 39,
     "metadata": {},
     "output_type": "execute_result"
    }
   ],
   "source": [
    "knn = KNeighborsClassifier(n_neighbors=1)\n",
    "knn.fit(credit_without_missings, Credit.Capital[rows_not_missing])\n",
    "knn_cap = knn.predict(capital_missing_values)"
   ]
  },
  {
   "cell_type": "markdown",
   "metadata": {
    "id": "BdBY5pmbSQgP"
   },
   "source": [
    "Imputation of 'ChargesOnCapital'"
   ]
  },
  {
   "cell_type": "code",
   "execution_count": 41,
   "metadata": {
    "executionInfo": {
     "elapsed": 9,
     "status": "ok",
     "timestamp": 1708093342653,
     "user": {
      "displayName": "Marta Arias Vicente",
      "userId": "13874328413650848050"
     },
     "user_tz": -60
    },
    "id": "lEnyHghQSQgQ",
    "ExecuteTime": {
     "end_time": "2024-02-19T09:50:01.024127Z",
     "start_time": "2024-02-19T09:50:01.019081Z"
    }
   },
   "outputs": [],
   "source": [
    "charges_missing_values = subset_of_credit[Credit.ChargesOnCapital.isna()]"
   ]
  },
  {
   "cell_type": "code",
   "execution_count": 42,
   "metadata": {
    "executionInfo": {
     "elapsed": 9,
     "status": "ok",
     "timestamp": 1708093342653,
     "user": {
      "displayName": "Marta Arias Vicente",
      "userId": "13874328413650848050"
     },
     "user_tz": -60
    },
    "id": "PX3feR-MSQgQ",
    "ExecuteTime": {
     "end_time": "2024-02-19T09:50:04.693541Z",
     "start_time": "2024-02-19T09:50:04.682666Z"
    }
   },
   "outputs": [],
   "source": [
    "knn = KNeighborsClassifier(n_neighbors=1)\n",
    "knn.fit(credit_without_missings, Credit.ChargesOnCapital[rows_not_missing])\n",
    "knn_cop = knn.predict(charges_missing_values);"
   ]
  },
  {
   "cell_type": "code",
   "execution_count": 43,
   "metadata": {
    "executionInfo": {
     "elapsed": 8,
     "status": "ok",
     "timestamp": 1708093342653,
     "user": {
      "displayName": "Marta Arias Vicente",
      "userId": "13874328413650848050"
     },
     "user_tz": -60
    },
    "id": "DparXV53SQgQ",
    "scrolled": true,
    "ExecuteTime": {
     "end_time": "2024-02-19T09:50:06.430797Z",
     "start_time": "2024-02-19T09:50:06.425039Z"
    }
   },
   "outputs": [],
   "source": [
    "Credit.Income[Credit.Income.isna()] = knn_inc\n",
    "Credit.Capital[Credit.Capital.isna()] = knn_cap\n",
    "Credit.ChargesOnCapital[Credit.ChargesOnCapital.isna()] = knn_cop\n",
    "Credit.ChargesOnCapital[Credit.Capital==0] = 0"
   ]
  },
  {
   "cell_type": "markdown",
   "metadata": {
    "id": "nvyZ2LHMSQgQ"
   },
   "source": [
    "There are computanionally cheaper methods for missing value imputations such as replacing with mean, median or mode. All these can be computed using pandas `replace` and `fillna` functions, you can find more info [here](https://pandas.pydata.org/pandas-docs/stable/missing_data.html)\n",
    "\n",
    "The Scikit-learn library has also a method for the most simple missing value imputation [Imputer](http://scikit-learn.org/stable/modules/generated/sklearn.preprocessing.Imputer.html)"
   ]
  },
  {
   "cell_type": "markdown",
   "metadata": {
    "id": "ShVJmSXYSQgQ"
   },
   "source": [
    "inspect again the result, especially the new statistics"
   ]
  },
  {
   "cell_type": "code",
   "execution_count": 44,
   "metadata": {
    "colab": {
     "base_uri": "https://localhost:8080/",
     "height": 338
    },
    "executionInfo": {
     "elapsed": 428,
     "status": "ok",
     "timestamp": 1708093343073,
     "user": {
      "displayName": "Marta Arias Vicente",
      "userId": "13874328413650848050"
     },
     "user_tz": -60
    },
    "id": "1QdmUkUQSQgQ",
    "outputId": "bd7a69ba-a903-42bc-9a01-056926a373b5",
    "scrolled": true,
    "ExecuteTime": {
     "end_time": "2024-02-19T09:50:11.333269Z",
     "start_time": "2024-02-19T09:50:11.306889Z"
    }
   },
   "outputs": [
    {
     "data": {
      "text/plain": "(4455, 14)"
     },
     "execution_count": 44,
     "metadata": {},
     "output_type": "execute_result"
    },
    {
     "data": {
      "text/plain": "       Assessment  YearsInJob   Housing  Deadline       Age  MaritalStatus  \\\ncount    4455.000    4455.000  4455.000  4455.000  4455.000       4455.000   \nmean        1.281       7.987     2.657    46.442    37.078          1.879   \nstd         0.450       8.173     1.610    14.655    10.985          0.644   \nmin         0.000       0.000     0.000     6.000    18.000          0.000   \n25%         1.000       2.000     2.000    36.000    28.000          2.000   \n50%         1.000       5.000     2.000    48.000    36.000          2.000   \n75%         2.000      12.000     4.000    60.000    45.000          2.000   \nmax         2.000      48.000     6.000    72.000    68.000          5.000   \n\n        Records  TypeOfJob  Expenses    Income     Capital  ChargesOnCapital  \\\ncount  4455.000   4455.000  4455.000  4455.000    4455.000          4455.000   \nmean      1.174      1.676    55.569   141.712    5381.916           342.865   \nstd       0.379      0.954    19.516    80.111   11518.109          1244.609   \nmin       1.000      0.000    35.000     6.000       0.000             0.000   \n25%       1.000      1.000    35.000    90.000       0.000             0.000   \n50%       1.000      1.000    51.000   125.000    3000.000             0.000   \n75%       1.000      3.000    72.000   171.500    6000.000             0.000   \nmax       2.000      4.000   180.000   959.000  300000.000         30000.000   \n\n       AmountRequested  MarketPrice  \ncount         4455.000     4455.000  \nmean          1039.022     1462.876  \nstd            474.543      628.090  \nmin            100.000      105.000  \n25%            700.000     1117.500  \n50%           1000.000     1400.000  \n75%           1300.000     1692.000  \nmax           5000.000    11140.000  ",
      "text/html": "<div>\n<style scoped>\n    .dataframe tbody tr th:only-of-type {\n        vertical-align: middle;\n    }\n\n    .dataframe tbody tr th {\n        vertical-align: top;\n    }\n\n    .dataframe thead th {\n        text-align: right;\n    }\n</style>\n<table border=\"1\" class=\"dataframe\">\n  <thead>\n    <tr style=\"text-align: right;\">\n      <th></th>\n      <th>Assessment</th>\n      <th>YearsInJob</th>\n      <th>Housing</th>\n      <th>Deadline</th>\n      <th>Age</th>\n      <th>MaritalStatus</th>\n      <th>Records</th>\n      <th>TypeOfJob</th>\n      <th>Expenses</th>\n      <th>Income</th>\n      <th>Capital</th>\n      <th>ChargesOnCapital</th>\n      <th>AmountRequested</th>\n      <th>MarketPrice</th>\n    </tr>\n  </thead>\n  <tbody>\n    <tr>\n      <th>count</th>\n      <td>4455.000</td>\n      <td>4455.000</td>\n      <td>4455.000</td>\n      <td>4455.000</td>\n      <td>4455.000</td>\n      <td>4455.000</td>\n      <td>4455.000</td>\n      <td>4455.000</td>\n      <td>4455.000</td>\n      <td>4455.000</td>\n      <td>4455.000</td>\n      <td>4455.000</td>\n      <td>4455.000</td>\n      <td>4455.000</td>\n    </tr>\n    <tr>\n      <th>mean</th>\n      <td>1.281</td>\n      <td>7.987</td>\n      <td>2.657</td>\n      <td>46.442</td>\n      <td>37.078</td>\n      <td>1.879</td>\n      <td>1.174</td>\n      <td>1.676</td>\n      <td>55.569</td>\n      <td>141.712</td>\n      <td>5381.916</td>\n      <td>342.865</td>\n      <td>1039.022</td>\n      <td>1462.876</td>\n    </tr>\n    <tr>\n      <th>std</th>\n      <td>0.450</td>\n      <td>8.173</td>\n      <td>1.610</td>\n      <td>14.655</td>\n      <td>10.985</td>\n      <td>0.644</td>\n      <td>0.379</td>\n      <td>0.954</td>\n      <td>19.516</td>\n      <td>80.111</td>\n      <td>11518.109</td>\n      <td>1244.609</td>\n      <td>474.543</td>\n      <td>628.090</td>\n    </tr>\n    <tr>\n      <th>min</th>\n      <td>0.000</td>\n      <td>0.000</td>\n      <td>0.000</td>\n      <td>6.000</td>\n      <td>18.000</td>\n      <td>0.000</td>\n      <td>1.000</td>\n      <td>0.000</td>\n      <td>35.000</td>\n      <td>6.000</td>\n      <td>0.000</td>\n      <td>0.000</td>\n      <td>100.000</td>\n      <td>105.000</td>\n    </tr>\n    <tr>\n      <th>25%</th>\n      <td>1.000</td>\n      <td>2.000</td>\n      <td>2.000</td>\n      <td>36.000</td>\n      <td>28.000</td>\n      <td>2.000</td>\n      <td>1.000</td>\n      <td>1.000</td>\n      <td>35.000</td>\n      <td>90.000</td>\n      <td>0.000</td>\n      <td>0.000</td>\n      <td>700.000</td>\n      <td>1117.500</td>\n    </tr>\n    <tr>\n      <th>50%</th>\n      <td>1.000</td>\n      <td>5.000</td>\n      <td>2.000</td>\n      <td>48.000</td>\n      <td>36.000</td>\n      <td>2.000</td>\n      <td>1.000</td>\n      <td>1.000</td>\n      <td>51.000</td>\n      <td>125.000</td>\n      <td>3000.000</td>\n      <td>0.000</td>\n      <td>1000.000</td>\n      <td>1400.000</td>\n    </tr>\n    <tr>\n      <th>75%</th>\n      <td>2.000</td>\n      <td>12.000</td>\n      <td>4.000</td>\n      <td>60.000</td>\n      <td>45.000</td>\n      <td>2.000</td>\n      <td>1.000</td>\n      <td>3.000</td>\n      <td>72.000</td>\n      <td>171.500</td>\n      <td>6000.000</td>\n      <td>0.000</td>\n      <td>1300.000</td>\n      <td>1692.000</td>\n    </tr>\n    <tr>\n      <th>max</th>\n      <td>2.000</td>\n      <td>48.000</td>\n      <td>6.000</td>\n      <td>72.000</td>\n      <td>68.000</td>\n      <td>5.000</td>\n      <td>2.000</td>\n      <td>4.000</td>\n      <td>180.000</td>\n      <td>959.000</td>\n      <td>300000.000</td>\n      <td>30000.000</td>\n      <td>5000.000</td>\n      <td>11140.000</td>\n    </tr>\n  </tbody>\n</table>\n</div>"
     },
     "execution_count": 44,
     "metadata": {},
     "output_type": "execute_result"
    }
   ],
   "source": [
    "Credit.shape\n",
    "Credit.describe()"
   ]
  },
  {
   "cell_type": "markdown",
   "metadata": {
    "id": "N99uBjd9SQgR"
   },
   "source": [
    "## SECTION 4: FINDING OUTLIERS\n",
    "\n",
    "In real data you are usually going to find outliers. It can be because the data is just like that or because there are wrong values stored.\n",
    "\n",
    "It is important to identify them so you can remove them, impute them, or just acknowledge their existence and take into account in your analysis.\n",
    "\n",
    "Some machine learning models are very sensitive to outliers.\n",
    "\n",
    "There are a lot of ways to define an outlier. Here we are going to talk about a basic and a complex one."
   ]
  },
  {
   "cell_type": "code",
   "execution_count": 45,
   "metadata": {
    "colab": {
     "base_uri": "https://localhost:8080/",
     "height": 468
    },
    "executionInfo": {
     "elapsed": 521,
     "status": "ok",
     "timestamp": 1708093343591,
     "user": {
      "displayName": "Marta Arias Vicente",
      "userId": "13874328413650848050"
     },
     "user_tz": -60
    },
    "id": "O93OazNsSQgR",
    "outputId": "1e3b9a33-a806-42c3-a047-919e610ffacb",
    "ExecuteTime": {
     "end_time": "2024-02-19T09:54:03.396091Z",
     "start_time": "2024-02-19T09:54:03.029062Z"
    }
   },
   "outputs": [
    {
     "data": {
      "text/plain": "<Figure size 900x500 with 2 Axes>",
      "image/png": "[encoded data removed]"
     },
     "metadata": {},
     "output_type": "display_data"
    }
   ],
   "source": [
    "fig, axes= plt.subplots(1,2, gridspec_kw={'width_ratios': [1, 4]}, figsize=(9,5))\n",
    "Credit.boxplot(column='MarketPrice',ax=axes[0]);\n",
    "Credit.hist(column='MarketPrice', ax=axes[1]);"
   ]
  },
  {
   "cell_type": "markdown",
   "metadata": {
    "id": "PQjgtdFtSQgR"
   },
   "source": [
    "### IQR\n",
    "\n",
    "One easy criteria to decide which values are outliers is to use the distance between quartiles. Specifically, you define the outliers as:\n",
    "* The values smaller than Q1 - 1.5*IQR\n",
    "* The values bigger than Q3 + 1.5*IQR\n",
    "\n",
    "This is the criteria used in the boxplots to mark the outliers.\n",
    "\n",
    "<img src=\"https://upload.wikimedia.org/wikipedia/commons/thumb/1/1a/Boxplot_vs_PDF.svg/1024px-Boxplot_vs_PDF.svg.png\" alt=\"nice_image_from_wikipedia\" width=\"450\"/>"
   ]
  },
  {
   "cell_type": "markdown",
   "metadata": {
    "id": "P4eeUcRSSQgR"
   },
   "source": [
    "If we used this criteria to remove the outliers of our variable we would get the next distribution."
   ]
  },
  {
   "cell_type": "code",
   "execution_count": 46,
   "metadata": {
    "colab": {
     "base_uri": "https://localhost:8080/"
    },
    "executionInfo": {
     "elapsed": 9,
     "status": "ok",
     "timestamp": 1708093343591,
     "user": {
      "displayName": "Marta Arias Vicente",
      "userId": "13874328413650848050"
     },
     "user_tz": -60
    },
    "id": "XeoOtCxFSQgR",
    "outputId": "adf57d2c-5f4b-41e8-a4f0-dd6c243b1bd6",
    "ExecuteTime": {
     "end_time": "2024-02-19T09:55:29.750967Z",
     "start_time": "2024-02-19T09:55:29.744745Z"
    }
   },
   "outputs": [
    {
     "data": {
      "text/plain": "(1117.5, 1692.0, 574.5)"
     },
     "execution_count": 46,
     "metadata": {},
     "output_type": "execute_result"
    }
   ],
   "source": [
    "Q1 = Credit['MarketPrice'].quantile(0.25)\n",
    "Q3 = Credit['MarketPrice'].quantile(0.75)\n",
    "IQR = Q3 - Q1\n",
    "\n",
    "Q1, Q3, IQR"
   ]
  },
  {
   "cell_type": "code",
   "execution_count": 47,
   "metadata": {
    "colab": {
     "base_uri": "https://localhost:8080/"
    },
    "executionInfo": {
     "elapsed": 7,
     "status": "ok",
     "timestamp": 1708093343591,
     "user": {
      "displayName": "Marta Arias Vicente",
      "userId": "13874328413650848050"
     },
     "user_tz": -60
    },
    "id": "abk4wLHhSQgS",
    "outputId": "de139033-b961-458b-94dd-a2f117e21142",
    "ExecuteTime": {
     "end_time": "2024-02-19T09:55:38.846309Z",
     "start_time": "2024-02-19T09:55:38.839095Z"
    }
   },
   "outputs": [
    {
     "data": {
      "text/plain": "(9, 165)"
     },
     "execution_count": 47,
     "metadata": {},
     "output_type": "execute_result"
    }
   ],
   "source": [
    "small_outliers = Credit['MarketPrice'] < (Q1 - 1.5 * IQR)\n",
    "big_outliers = Credit['MarketPrice'] > (Q3 + 1.5 * IQR)\n",
    "\n",
    "sum(small_outliers), sum(big_outliers)"
   ]
  },
  {
   "cell_type": "code",
   "execution_count": 48,
   "metadata": {
    "colab": {
     "base_uri": "https://localhost:8080/"
    },
    "executionInfo": {
     "elapsed": 6,
     "status": "ok",
     "timestamp": 1708093343591,
     "user": {
      "displayName": "Marta Arias Vicente",
      "userId": "13874328413650848050"
     },
     "user_tz": -60
    },
    "id": "HdTDgO6bSQgS",
    "outputId": "19e39e12-e2eb-4d93-dc9c-83a94910a247",
    "ExecuteTime": {
     "end_time": "2024-02-19T09:55:48.503931Z",
     "start_time": "2024-02-19T09:55:48.497270Z"
    }
   },
   "outputs": [
    {
     "data": {
      "text/plain": "2      2985\n27     2557\n100    3262\n125    4786\n142    8800\nName: MarketPrice, dtype: int64"
     },
     "execution_count": 48,
     "metadata": {},
     "output_type": "execute_result"
    }
   ],
   "source": [
    "Credit['MarketPrice'][small_outliers | big_outliers].head()"
   ]
  },
  {
   "cell_type": "code",
   "execution_count": 49,
   "metadata": {
    "colab": {
     "base_uri": "https://localhost:8080/",
     "height": 468
    },
    "executionInfo": {
     "elapsed": 451,
     "status": "ok",
     "timestamp": 1708093344038,
     "user": {
      "displayName": "Marta Arias Vicente",
      "userId": "13874328413650848050"
     },
     "user_tz": -60
    },
    "id": "WvBHbzJmSQgS",
    "outputId": "e2cbad73-114d-44d4-fe2d-02c40e87a2c2",
    "ExecuteTime": {
     "end_time": "2024-02-19T09:55:52.128477Z",
     "start_time": "2024-02-19T09:55:51.906657Z"
    }
   },
   "outputs": [
    {
     "data": {
      "text/plain": "<Figure size 900x500 with 2 Axes>",
      "image/png": "[encoded data removed]"
     },
     "metadata": {},
     "output_type": "display_data"
    }
   ],
   "source": [
    "fig, axes= plt.subplots(1,2, gridspec_kw={'width_ratios': [1, 4]}, figsize=(9,5))\n",
    "Credit[~(small_outliers | big_outliers)].boxplot(column='MarketPrice',ax=axes[0]);\n",
    "Credit[~(small_outliers | big_outliers)].hist(column='MarketPrice', ax=axes[1]);"
   ]
  },
  {
   "cell_type": "markdown",
   "metadata": {
    "id": "CGmEcuwiSQgS"
   },
   "source": [
    "### Model based\n",
    "Sometimes the classic approaches will not be enough to detect outliers. The data can take many forms, like images, text or just pairs of variables that would not make sense to take independenly for any reason.\n",
    "\n",
    "In these cases we will want to use more complex approaches. Here we are going to talk about [Local Outlier Factor](https://dl.acm.org/doi/abs/10.1145/342009.335388), but there are a lot more.\n",
    "\n",
    "Local outlier factor uses the local density of a point to decide whether it is an otlier or not. The local density is calculated by using its k nearest neighbors."
   ]
  },
  {
   "cell_type": "markdown",
   "metadata": {
    "id": "RvJkeFEDSQgS"
   },
   "source": [
    "<div class=\"alert alert-block alert-warning\">\n",
    "If you use a model-based approach you will need to tune its hyperparameters.\n",
    "</div>"
   ]
  },
  {
   "cell_type": "code",
   "execution_count": 50,
   "metadata": {
    "executionInfo": {
     "elapsed": 7,
     "status": "ok",
     "timestamp": 1708093344038,
     "user": {
      "displayName": "Marta Arias Vicente",
      "userId": "13874328413650848050"
     },
     "user_tz": -60
    },
    "id": "o-VqP3GdSQgS",
    "ExecuteTime": {
     "end_time": "2024-02-19T09:58:28.225673Z",
     "start_time": "2024-02-19T09:58:28.209432Z"
    }
   },
   "outputs": [],
   "source": [
    "local_outlier_factor = LocalOutlierFactor(n_neighbors=20)\n",
    "result = local_outlier_factor.fit_predict(Credit['MarketPrice'].values.reshape(-1, 1))\n",
    "\n",
    "outliers = result == -1\n",
    "no_outliers = result == 1"
   ]
  },
  {
   "cell_type": "code",
   "execution_count": 51,
   "metadata": {
    "colab": {
     "base_uri": "https://localhost:8080/"
    },
    "executionInfo": {
     "elapsed": 6,
     "status": "ok",
     "timestamp": 1708093344038,
     "user": {
      "displayName": "Marta Arias Vicente",
      "userId": "13874328413650848050"
     },
     "user_tz": -60
    },
    "id": "xHPYc5YGSQgT",
    "outputId": "07e78a4e-bb56-4fad-9658-2e834088a95e",
    "ExecuteTime": {
     "end_time": "2024-02-19T09:58:29.359585Z",
     "start_time": "2024-02-19T09:58:29.353486Z"
    }
   },
   "outputs": [
    {
     "data": {
      "text/plain": "Counter({-1: 479, 1: 3976})"
     },
     "execution_count": 51,
     "metadata": {},
     "output_type": "execute_result"
    }
   ],
   "source": [
    "Counter(result)"
   ]
  },
  {
   "cell_type": "code",
   "execution_count": 52,
   "metadata": {
    "colab": {
     "base_uri": "https://localhost:8080/",
     "height": 468
    },
    "executionInfo": {
     "elapsed": 443,
     "status": "ok",
     "timestamp": 1708093344477,
     "user": {
      "displayName": "Marta Arias Vicente",
      "userId": "13874328413650848050"
     },
     "user_tz": -60
    },
    "id": "hR8t5ou2SQgT",
    "outputId": "648aeff7-a078-4c21-b8b6-742a1c59e5d9",
    "ExecuteTime": {
     "end_time": "2024-02-19T09:58:34.410037Z",
     "start_time": "2024-02-19T09:58:34.151896Z"
    }
   },
   "outputs": [
    {
     "data": {
      "text/plain": "<Figure size 900x500 with 2 Axes>",
      "image/png": "[encoded data removed]"
     },
     "metadata": {},
     "output_type": "display_data"
    }
   ],
   "source": [
    "fig, axes= plt.subplots(1,2, gridspec_kw={'width_ratios': [1, 4]}, figsize=(9,5))\n",
    "Credit[no_outliers].boxplot(column='MarketPrice',ax=axes[0]);\n",
    "Credit[no_outliers].hist(column='MarketPrice', ax=axes[1]);"
   ]
  },
  {
   "cell_type": "markdown",
   "metadata": {
    "id": "ulVZlTIZSQgT"
   },
   "source": [
    "***\n",
    "## SECTION 5: TREATMENT OF MIXED DATA TYPES\n",
    "\n",
    "\n",
    " In this case we have decided to keep the original type and leave the decision for later, depending on the specific analysis\n",
    "\n",
    " we explicitly declare categorical variables as such"
   ]
  },
  {
   "cell_type": "code",
   "execution_count": 53,
   "metadata": {
    "colab": {
     "base_uri": "https://localhost:8080/"
    },
    "executionInfo": {
     "elapsed": 8,
     "status": "ok",
     "timestamp": 1708093344477,
     "user": {
      "displayName": "Marta Arias Vicente",
      "userId": "13874328413650848050"
     },
     "user_tz": -60
    },
    "id": "nUqOfy15SQgT",
    "outputId": "157a1117-019a-427e-bfcb-148b86a555c9",
    "ExecuteTime": {
     "end_time": "2024-02-19T09:59:47.716768Z",
     "start_time": "2024-02-19T09:59:47.709256Z"
    }
   },
   "outputs": [
    {
     "data": {
      "text/plain": "Assessment            int64\nYearsInJob            int64\nHousing               int64\nDeadline              int64\nAge                   int64\nMaritalStatus         int64\nRecords               int64\nTypeOfJob             int64\nExpenses              int64\nIncome              float64\nCapital             float64\nChargesOnCapital    float64\nAmountRequested       int64\nMarketPrice           int64\ndtype: object"
     },
     "execution_count": 53,
     "metadata": {},
     "output_type": "execute_result"
    }
   ],
   "source": [
    "Credit.dtypes"
   ]
  },
  {
   "cell_type": "code",
   "execution_count": 54,
   "metadata": {
    "colab": {
     "base_uri": "https://localhost:8080/"
    },
    "executionInfo": {
     "elapsed": 7,
     "status": "ok",
     "timestamp": 1708093344478,
     "user": {
      "displayName": "Marta Arias Vicente",
      "userId": "13874328413650848050"
     },
     "user_tz": -60
    },
    "id": "JkKD6U2RSQgT",
    "outputId": "efac74b9-33de-4ea1-dd8b-ebe13a1a37b7",
    "ExecuteTime": {
     "end_time": "2024-02-19T10:01:28.396712Z",
     "start_time": "2024-02-19T10:01:28.381592Z"
    }
   },
   "outputs": [
    {
     "data": {
      "text/plain": "array([1, 2, 0], dtype=object)"
     },
     "execution_count": 54,
     "metadata": {},
     "output_type": "execute_result"
    },
    {
     "data": {
      "text/plain": "array([1, 2, 5, 3, 6, 4, 0], dtype=object)"
     },
     "execution_count": 54,
     "metadata": {},
     "output_type": "execute_result"
    },
    {
     "data": {
      "text/plain": "array([2, 3, 1, 4, 5, 0], dtype=object)"
     },
     "execution_count": 54,
     "metadata": {},
     "output_type": "execute_result"
    },
    {
     "data": {
      "text/plain": "array([1, 2], dtype=object)"
     },
     "execution_count": 54,
     "metadata": {},
     "output_type": "execute_result"
    },
    {
     "data": {
      "text/plain": "array([3, 1, 2, 0, 4], dtype=object)"
     },
     "execution_count": 54,
     "metadata": {},
     "output_type": "execute_result"
    }
   ],
   "source": [
    "# There is a categorical datatype in pandas, but for most things this will do\n",
    "Credit.Assessment = Credit.Assessment.astype('object')\n",
    "Credit.Housing = Credit.Housing.astype('object')\n",
    "Credit.MaritalStatus = Credit.MaritalStatus.astype('object')\n",
    "Credit.Records = Credit.Records.astype('object')\n",
    "Credit.TypeOfJob = Credit.TypeOfJob.astype('object')\n",
    "\n",
    "Credit.Assessment.unique()\n",
    "Credit.Housing .unique()\n",
    "Credit.MaritalStatus.unique()\n",
    "Credit.Records.unique()\n",
    "Credit.TypeOfJob.unique()\n"
   ]
  },
  {
   "cell_type": "markdown",
   "metadata": {
    "id": "WVMn8556SQgU"
   },
   "source": [
    "not very nice, right? let's recode"
   ]
  },
  {
   "cell_type": "code",
   "execution_count": 55,
   "metadata": {
    "executionInfo": {
     "elapsed": 5,
     "status": "ok",
     "timestamp": 1708093344478,
     "user": {
      "displayName": "Marta Arias Vicente",
      "userId": "13874328413650848050"
     },
     "user_tz": -60
    },
    "id": "YX1YKul3SQgU",
    "ExecuteTime": {
     "end_time": "2024-02-19T10:01:39.589101Z",
     "start_time": "2024-02-19T10:01:39.580266Z"
    }
   },
   "outputs": [],
   "source": [
    "Credit.Assessment.replace([1, 2],\n",
    "                          [\"positive\",\"negative\"],\n",
    "                          inplace=True)\n",
    "Credit.Housing.replace([1,2,3,4,5,6],\n",
    "                       [\"rent\",\"owner\",\"private\",\"ignore\",\"parents\",\"other\"],\n",
    "                       inplace=True)\n",
    "Credit.MaritalStatus.replace([1,2,3,4,5],\n",
    "                             [\"single\",\"married\",\"widower\",\"split\",\"divorced\"],\n",
    "                             inplace=True)\n",
    "Credit.Records.replace([1, 2],\n",
    "                       [\"no\",\"yes\"], inplace=True)\n",
    "Credit.TypeOfJob.replace([1,2,3,4],\n",
    "                         [\"indefinite\",\"temporal\",\"self-employed\",\"other\"],\n",
    "                         inplace=True)\n"
   ]
  },
  {
   "cell_type": "markdown",
   "metadata": {
    "id": "kyaFGoN9SQgU"
   },
   "source": [
    "<div class=\"alert alert-block alert-warning\">\n",
    "If you want to treat a categorical variable as numerical you should never replace the categories by numbers.\n",
    "If you do so you are adding an order relationship that did not exist previously in the data, adding noise to your analysis.\n",
    "</div>"
   ]
  },
  {
   "cell_type": "markdown",
   "metadata": {
    "id": "w9uAIcGWSQgU"
   },
   "source": [
    "***\n",
    "## SECTION 6: DERIVATION OF NEW VARIABLES: FEATURE EXTRACTION\n",
    "\n",
    " We decide whether it can be sensible to derive new variables; we extract two new continuous and one new categorical variable (for the sake of illustration):\n",
    "\n",
    " Financing ratio (continuous)\n"
   ]
  },
  {
   "cell_type": "code",
   "execution_count": 60,
   "metadata": {
    "colab": {
     "base_uri": "https://localhost:8080/",
     "height": 676
    },
    "executionInfo": {
     "elapsed": 411,
     "status": "ok",
     "timestamp": 1708093344884,
     "user": {
      "displayName": "Marta Arias Vicente",
      "userId": "13874328413650848050"
     },
     "user_tz": -60
    },
    "id": "RVwt0VffSQgU",
    "outputId": "3f5d0145-835f-4da1-99cf-703235363fcb",
    "ExecuteTime": {
     "end_time": "2024-02-19T10:04:32.596718Z",
     "start_time": "2024-02-19T10:04:32.429134Z"
    }
   },
   "outputs": [
    {
     "data": {
      "text/plain": "<Figure size 800x800 with 1 Axes>",
      "image/png": "[encoded data removed]"
     },
     "metadata": {},
     "output_type": "display_data"
    }
   ],
   "source": [
    "Credit['FinancingRatio'] = 100*Credit.AmountRequested/Credit.MarketPrice\n",
    "Credit.FinancingRatio.hist(figsize=(8,8));"
   ]
  },
  {
   "cell_type": "markdown",
   "metadata": {
    "id": "OHpcxbSdSQgV"
   },
   "source": [
    " Saving capacity (continuous)"
   ]
  },
  {
   "cell_type": "code",
   "execution_count": 61,
   "metadata": {
    "colab": {
     "base_uri": "https://localhost:8080/",
     "height": 676
    },
    "executionInfo": {
     "elapsed": 298,
     "status": "ok",
     "timestamp": 1708093345179,
     "user": {
      "displayName": "Marta Arias Vicente",
      "userId": "13874328413650848050"
     },
     "user_tz": -60
    },
    "id": "igv1GoDFSQgV",
    "outputId": "92810db5-b508-4523-8219-afc23b001957",
    "ExecuteTime": {
     "end_time": "2024-02-19T10:04:36.933486Z",
     "start_time": "2024-02-19T10:04:36.680963Z"
    }
   },
   "outputs": [
    {
     "data": {
      "text/plain": "<Figure size 800x800 with 1 Axes>",
      "image/png": "[encoded data removed]"
     },
     "metadata": {},
     "output_type": "display_data"
    }
   ],
   "source": [
    "Credit['SavingCapacity'] = (Credit.Income- Credit.Expenses-(Credit.ChargesOnCapital/100))\\\n",
    "                            /(Credit.AmountRequested/Credit.Deadline)\n",
    "Credit.SavingCapacity.hist(bins=16,figsize=(8,8));"
   ]
  },
  {
   "cell_type": "markdown",
   "metadata": {
    "id": "VV_YYs-1SQgV"
   },
   "source": [
    " Amount Requested greater than the median by people younger than 1.25 times the mean (categorical):"
   ]
  },
  {
   "cell_type": "code",
   "execution_count": 62,
   "metadata": {
    "colab": {
     "base_uri": "https://localhost:8080/",
     "height": 253
    },
    "executionInfo": {
     "elapsed": 9,
     "status": "ok",
     "timestamp": 1708093345179,
     "user": {
      "displayName": "Marta Arias Vicente",
      "userId": "13874328413650848050"
     },
     "user_tz": -60
    },
    "id": "QdZadvEqSQgV",
    "outputId": "2cf431c1-e431-47b0-8b5d-b0fe15c7db0b",
    "ExecuteTime": {
     "end_time": "2024-02-19T10:05:00.104629Z",
     "start_time": "2024-02-19T10:05:00.089287Z"
    }
   },
   "outputs": [
    {
     "name": "stderr",
     "output_type": "stream",
     "text": [
      "/tmp/ipykernel_24949/2144243632.py:2: SettingWithCopyWarning: \n",
      "A value is trying to be set on a copy of a slice from a DataFrame\n",
      "\n",
      "See the caveats in the documentation: https://pandas.pydata.org/pandas-docs/stable/user_guide/indexing.html#returning-a-view-versus-a-copy\n",
      "  Credit.Dubious[(Credit.AmountRequested > Credit.AmountRequested.median(skipna=True)) &\n"
     ]
    },
    {
     "data": {
      "text/plain": "Assessment  0  negative  positive\nDubious                          \nNo          0       671      2201\nYes         1       583       999",
      "text/html": "<div>\n<style scoped>\n    .dataframe tbody tr th:only-of-type {\n        vertical-align: middle;\n    }\n\n    .dataframe tbody tr th {\n        vertical-align: top;\n    }\n\n    .dataframe thead th {\n        text-align: right;\n    }\n</style>\n<table border=\"1\" class=\"dataframe\">\n  <thead>\n    <tr style=\"text-align: right;\">\n      <th>Assessment</th>\n      <th>0</th>\n      <th>negative</th>\n      <th>positive</th>\n    </tr>\n    <tr>\n      <th>Dubious</th>\n      <th></th>\n      <th></th>\n      <th></th>\n    </tr>\n  </thead>\n  <tbody>\n    <tr>\n      <th>No</th>\n      <td>0</td>\n      <td>671</td>\n      <td>2201</td>\n    </tr>\n    <tr>\n      <th>Yes</th>\n      <td>1</td>\n      <td>583</td>\n      <td>999</td>\n    </tr>\n  </tbody>\n</table>\n</div>"
     },
     "execution_count": 62,
     "metadata": {},
     "output_type": "execute_result"
    }
   ],
   "source": [
    "Credit['Dubious'] = ['No']*Credit.shape[0]\n",
    "Credit.Dubious[(Credit.AmountRequested > Credit.AmountRequested.median(skipna=True)) &\n",
    "               (Credit.Age < 1.25*Credit.Age.mean(skipna=True))] = \"Yes\"\n",
    "pd.crosstab(Credit.Dubious, Credit.Assessment)"
   ]
  },
  {
   "cell_type": "markdown",
   "metadata": {
    "id": "SY1cssihSQgV"
   },
   "source": [
    "***\n",
    "## SECTION 7: WHAT WE HAVE DONE SO FAR\n",
    "\n",
    "\n",
    " Create a new dataframe that gathers everything and inspect it again"
   ]
  },
  {
   "cell_type": "code",
   "execution_count": 133,
   "metadata": {
    "colab": {
     "base_uri": "https://localhost:8080/",
     "height": 432
    },
    "executionInfo": {
     "elapsed": 6,
     "status": "ok",
     "timestamp": 1708093345179,
     "user": {
      "displayName": "Marta Arias Vicente",
      "userId": "13874328413650848050"
     },
     "user_tz": -60
    },
    "id": "cuz1SCTrSQgV",
    "outputId": "54008350-c578-4055-c282-7430d69eb10d"
   },
   "outputs": [
    {
     "data": {
      "application/vnd.google.colaboratory.intrinsic+json": {
       "summary": "{\n  \"name\": \"Credit_new\",\n  \"rows\": 11,\n  \"fields\": [\n    {\n      \"column\": \"Assessment\",\n      \"properties\": {\n        \"dtype\": \"category\",\n        \"samples\": [\n          2,\n          \"3197\",\n          \"4446\"\n        ],\n        \"num_unique_values\": 4,\n        \"semantic_type\": \"\",\n        \"description\": \"\"\n      }\n    },\n    {\n      \"column\": \"YearsInJob\",\n      \"properties\": {\n        \"dtype\": \"number\",\n        \"std\": 1567.7715563663537,\n        \"min\": 0.0,\n        \"max\": 4446.0,\n        \"samples\": [\n          7.9914529914529915,\n          5.0,\n          4446.0\n        ],\n        \"num_unique_values\": 8,\n        \"semantic_type\": \"\",\n        \"description\": \"\"\n      }\n    },\n    {\n      \"column\": \"Housing\",\n      \"properties\": {\n        \"dtype\": \"category\",\n        \"samples\": [\n          6,\n          \"2106\",\n          \"4446\"\n        ],\n        \"num_unique_values\": 4,\n        \"semantic_type\": \"\",\n        \"description\": \"\"\n      }\n    },\n    {\n      \"column\": \"Deadline\",\n      \"properties\": {\n        \"dtype\": \"number\",\n        \"std\": 1557.7528895669777,\n        \"min\": 6.0,\n        \"max\": 4446.0,\n        \"samples\": [\n          46.45344129554656,\n          48.0,\n          4446.0\n        ],\n        \"num_unique_values\": 8,\n        \"semantic_type\": \"\",\n        \"description\": \"\"\n      }\n    },\n    {\n      \"column\": \"Age\",\n      \"properties\": {\n        \"dtype\": \"number\",\n        \"std\": 1559.7180230030954,\n        \"min\": 10.986365810669378,\n        \"max\": 4446.0,\n        \"samples\": [\n          37.084120557804766,\n          36.0,\n          4446.0\n        ],\n        \"num_unique_values\": 8,\n        \"semantic_type\": \"\",\n        \"description\": \"\"\n      }\n    },\n    {\n      \"column\": \"MaritalStatus\",\n      \"properties\": {\n        \"dtype\": \"category\",\n        \"samples\": [\n          5,\n          \"3238\",\n          \"4446\"\n        ],\n        \"num_unique_values\": 4,\n        \"semantic_type\": \"\",\n        \"description\": \"\"\n      }\n    },\n    {\n      \"column\": \"Records\",\n      \"properties\": {\n        \"dtype\": \"category\",\n        \"samples\": [\n          2,\n          \"3677\",\n          \"4446\"\n        ],\n        \"num_unique_values\": 4,\n        \"semantic_type\": \"\",\n        \"description\": \"\"\n      }\n    },\n    {\n      \"column\": \"TypeOfJob\",\n      \"properties\": {\n        \"dtype\": \"category\",\n        \"samples\": [\n          4,\n          \"2803\",\n          \"4446\"\n        ],\n        \"num_unique_values\": 4,\n        \"semantic_type\": \"\",\n        \"description\": \"\"\n      }\n    },\n    {\n      \"column\": \"Expenses\",\n      \"properties\": {\n        \"dtype\": \"number\",\n        \"std\": 1550.0677161910994,\n        \"min\": 19.520839147741484,\n        \"max\": 4446.0,\n        \"samples\": [\n          4446.0,\n          55.60143949617634,\n          72.0\n        ],\n        \"num_unique_values\": 7,\n        \"semantic_type\": \"\",\n        \"description\": \"\"\n      }\n    },\n    {\n      \"column\": \"Income\",\n      \"properties\": {\n        \"dtype\": \"number\",\n        \"std\": 1523.055521002865,\n        \"min\": 6.0,\n        \"max\": 4446.0,\n        \"samples\": [\n          141.68915879442196,\n          125.0,\n          4446.0\n        ],\n        \"num_unique_values\": 8,\n        \"semantic_type\": \"\",\n        \"description\": \"\"\n      }\n    },\n    {\n      \"column\": \"Capital\",\n      \"properties\": {\n        \"dtype\": \"number\",\n        \"std\": 104597.61288397429,\n        \"min\": 0.0,\n        \"max\": 300000.0,\n        \"samples\": [\n          4446.0,\n          5383.701529464687,\n          6000.0\n        ],\n        \"num_unique_values\": 7,\n        \"semantic_type\": \"\",\n        \"description\": \"\"\n      }\n    },\n    {\n      \"column\": \"ChargesOnCapital\",\n      \"properties\": {\n        \"dtype\": \"number\",\n        \"std\": 10413.734659132653,\n        \"min\": 0.0,\n        \"max\": 30000.0,\n        \"samples\": [\n          343.3115159694107,\n          30000.0,\n          1245.7312339386995\n        ],\n        \"num_unique_values\": 5,\n        \"semantic_type\": \"\",\n        \"description\": \"\"\n      }\n    },\n    {\n      \"column\": \"AmountRequested\",\n      \"properties\": {\n        \"dtype\": \"number\",\n        \"std\": 1872.8358410271887,\n        \"min\": 100.0,\n        \"max\": 5000.0,\n        \"samples\": [\n          1038.7633828160144,\n          1000.0,\n          4446.0\n        ],\n        \"num_unique_values\": 8,\n        \"semantic_type\": \"\",\n        \"description\": \"\"\n      }\n    },\n    {\n      \"column\": \"MarketPrice\",\n      \"properties\": {\n        \"dtype\": \"number\",\n        \"std\": 3625.9939340766514,\n        \"min\": 105.0,\n        \"max\": 11140.0,\n        \"samples\": [\n          1462.480431848853,\n          1400.0,\n          4446.0\n        ],\n        \"num_unique_values\": 8,\n        \"semantic_type\": \"\",\n        \"description\": \"\"\n      }\n    },\n    {\n      \"column\": \"FinancingRatio\",\n      \"properties\": {\n        \"dtype\": \"number\",\n        \"std\": 1550.7524177328223,\n        \"min\": 6.702412868632708,\n        \"max\": 4446.0,\n        \"samples\": [\n          72.61640905691647,\n          77.09675666312296,\n          4446.0\n        ],\n        \"num_unique_values\": 8,\n        \"semantic_type\": \"\",\n        \"description\": \"\"\n      }\n    },\n    {\n      \"column\": \"SavingCapacity\",\n      \"properties\": {\n        \"dtype\": \"number\",\n        \"std\": 1570.0386469563664,\n        \"min\": -13.104000000000001,\n        \"max\": 4446.0,\n        \"samples\": [\n          3.9109534578729517,\n          3.1423376623376624,\n          4446.0\n        ],\n        \"num_unique_values\": 8,\n        \"semantic_type\": \"\",\n        \"description\": \"\"\n      }\n    },\n    {\n      \"column\": \"Dubious\",\n      \"properties\": {\n        \"dtype\": \"category\",\n        \"samples\": [\n          2,\n          \"2868\",\n          \"4446\"\n        ],\n        \"num_unique_values\": 4,\n        \"semantic_type\": \"\",\n        \"description\": \"\"\n      }\n    }\n  ]\n}",
       "type": "dataframe"
      },
      "text/html": [
       "\n",
       "  <div id=\"df-2321bfb9-6b53-43eb-bdc9-1bae6f045464\" class=\"colab-df-container\">\n",
       "    <div>\n",
       "<style scoped>\n",
       "    .dataframe tbody tr th:only-of-type {\n",
       "        vertical-align: middle;\n",
       "    }\n",
       "\n",
       "    .dataframe tbody tr th {\n",
       "        vertical-align: top;\n",
       "    }\n",
       "\n",
       "    .dataframe thead th {\n",
       "        text-align: right;\n",
       "    }\n",
       "</style>\n",
       "<table border=\"1\" class=\"dataframe\">\n",
       "  <thead>\n",
       "    <tr style=\"text-align: right;\">\n",
       "      <th></th>\n",
       "      <th>Assessment</th>\n",
       "      <th>YearsInJob</th>\n",
       "      <th>Housing</th>\n",
       "      <th>Deadline</th>\n",
       "      <th>Age</th>\n",
       "      <th>MaritalStatus</th>\n",
       "      <th>Records</th>\n",
       "      <th>TypeOfJob</th>\n",
       "      <th>Expenses</th>\n",
       "      <th>Income</th>\n",
       "      <th>Capital</th>\n",
       "      <th>ChargesOnCapital</th>\n",
       "      <th>AmountRequested</th>\n",
       "      <th>MarketPrice</th>\n",
       "      <th>FinancingRatio</th>\n",
       "      <th>SavingCapacity</th>\n",
       "      <th>Dubious</th>\n",
       "    </tr>\n",
       "  </thead>\n",
       "  <tbody>\n",
       "    <tr>\n",
       "      <th>count</th>\n",
       "      <td>4446</td>\n",
       "      <td>4446.000</td>\n",
       "      <td>4446</td>\n",
       "      <td>4446.000</td>\n",
       "      <td>4446.000</td>\n",
       "      <td>4446</td>\n",
       "      <td>4446</td>\n",
       "      <td>4446</td>\n",
       "      <td>4446.000</td>\n",
       "      <td>4446.000</td>\n",
       "      <td>4446.000</td>\n",
       "      <td>4446.000</td>\n",
       "      <td>4446.000</td>\n",
       "      <td>4446.000</td>\n",
       "      <td>4446.000</td>\n",
       "      <td>4446.000</td>\n",
       "      <td>4446</td>\n",
       "    </tr>\n",
       "    <tr>\n",
       "      <th>unique</th>\n",
       "      <td>2</td>\n",
       "      <td>NaN</td>\n",
       "      <td>6</td>\n",
       "      <td>NaN</td>\n",
       "      <td>NaN</td>\n",
       "      <td>5</td>\n",
       "      <td>2</td>\n",
       "      <td>4</td>\n",
       "      <td>NaN</td>\n",
       "      <td>NaN</td>\n",
       "      <td>NaN</td>\n",
       "      <td>NaN</td>\n",
       "      <td>NaN</td>\n",
       "      <td>NaN</td>\n",
       "      <td>NaN</td>\n",
       "      <td>NaN</td>\n",
       "      <td>2</td>\n",
       "    </tr>\n",
       "    <tr>\n",
       "      <th>top</th>\n",
       "      <td>positive</td>\n",
       "      <td>NaN</td>\n",
       "      <td>owner</td>\n",
       "      <td>NaN</td>\n",
       "      <td>NaN</td>\n",
       "      <td>married</td>\n",
       "      <td>no</td>\n",
       "      <td>indefinite</td>\n",
       "      <td>NaN</td>\n",
       "      <td>NaN</td>\n",
       "      <td>NaN</td>\n",
       "      <td>NaN</td>\n",
       "      <td>NaN</td>\n",
       "      <td>NaN</td>\n",
       "      <td>NaN</td>\n",
       "      <td>NaN</td>\n",
       "      <td>No</td>\n",
       "    </tr>\n",
       "    <tr>\n",
       "      <th>freq</th>\n",
       "      <td>3197</td>\n",
       "      <td>NaN</td>\n",
       "      <td>2106</td>\n",
       "      <td>NaN</td>\n",
       "      <td>NaN</td>\n",
       "      <td>3238</td>\n",
       "      <td>3677</td>\n",
       "      <td>2803</td>\n",
       "      <td>NaN</td>\n",
       "      <td>NaN</td>\n",
       "      <td>NaN</td>\n",
       "      <td>NaN</td>\n",
       "      <td>NaN</td>\n",
       "      <td>NaN</td>\n",
       "      <td>NaN</td>\n",
       "      <td>NaN</td>\n",
       "      <td>2868</td>\n",
       "    </tr>\n",
       "    <tr>\n",
       "      <th>mean</th>\n",
       "      <td>NaN</td>\n",
       "      <td>7.991</td>\n",
       "      <td>NaN</td>\n",
       "      <td>46.453</td>\n",
       "      <td>37.084</td>\n",
       "      <td>NaN</td>\n",
       "      <td>NaN</td>\n",
       "      <td>NaN</td>\n",
       "      <td>55.601</td>\n",
       "      <td>141.689</td>\n",
       "      <td>5383.702</td>\n",
       "      <td>343.312</td>\n",
       "      <td>1038.763</td>\n",
       "      <td>1462.480</td>\n",
       "      <td>72.616</td>\n",
       "      <td>3.911</td>\n",
       "      <td>NaN</td>\n",
       "    </tr>\n",
       "    <tr>\n",
       "      <th>std</th>\n",
       "      <td>NaN</td>\n",
       "      <td>8.176</td>\n",
       "      <td>NaN</td>\n",
       "      <td>14.648</td>\n",
       "      <td>10.986</td>\n",
       "      <td>NaN</td>\n",
       "      <td>NaN</td>\n",
       "      <td>NaN</td>\n",
       "      <td>19.521</td>\n",
       "      <td>80.082</td>\n",
       "      <td>11527.920</td>\n",
       "      <td>1245.731</td>\n",
       "      <td>474.748</td>\n",
       "      <td>628.555</td>\n",
       "      <td>20.391</td>\n",
       "      <td>3.738</td>\n",
       "      <td>NaN</td>\n",
       "    </tr>\n",
       "    <tr>\n",
       "      <th>min</th>\n",
       "      <td>NaN</td>\n",
       "      <td>0.000</td>\n",
       "      <td>NaN</td>\n",
       "      <td>6.000</td>\n",
       "      <td>18.000</td>\n",
       "      <td>NaN</td>\n",
       "      <td>NaN</td>\n",
       "      <td>NaN</td>\n",
       "      <td>35.000</td>\n",
       "      <td>6.000</td>\n",
       "      <td>0.000</td>\n",
       "      <td>0.000</td>\n",
       "      <td>100.000</td>\n",
       "      <td>105.000</td>\n",
       "      <td>6.702</td>\n",
       "      <td>-13.104</td>\n",
       "      <td>NaN</td>\n",
       "    </tr>\n",
       "    <tr>\n",
       "      <th>25%</th>\n",
       "      <td>NaN</td>\n",
       "      <td>2.000</td>\n",
       "      <td>NaN</td>\n",
       "      <td>36.000</td>\n",
       "      <td>28.000</td>\n",
       "      <td>NaN</td>\n",
       "      <td>NaN</td>\n",
       "      <td>NaN</td>\n",
       "      <td>35.000</td>\n",
       "      <td>90.000</td>\n",
       "      <td>0.000</td>\n",
       "      <td>0.000</td>\n",
       "      <td>700.000</td>\n",
       "      <td>1116.250</td>\n",
       "      <td>60.030</td>\n",
       "      <td>1.680</td>\n",
       "      <td>NaN</td>\n",
       "    </tr>\n",
       "    <tr>\n",
       "      <th>50%</th>\n",
       "      <td>NaN</td>\n",
       "      <td>5.000</td>\n",
       "      <td>NaN</td>\n",
       "      <td>48.000</td>\n",
       "      <td>36.000</td>\n",
       "      <td>NaN</td>\n",
       "      <td>NaN</td>\n",
       "      <td>NaN</td>\n",
       "      <td>51.000</td>\n",
       "      <td>125.000</td>\n",
       "      <td>3000.000</td>\n",
       "      <td>0.000</td>\n",
       "      <td>1000.000</td>\n",
       "      <td>1400.000</td>\n",
       "      <td>77.097</td>\n",
       "      <td>3.142</td>\n",
       "      <td>NaN</td>\n",
       "    </tr>\n",
       "    <tr>\n",
       "      <th>75%</th>\n",
       "      <td>NaN</td>\n",
       "      <td>12.000</td>\n",
       "      <td>NaN</td>\n",
       "      <td>60.000</td>\n",
       "      <td>45.000</td>\n",
       "      <td>NaN</td>\n",
       "      <td>NaN</td>\n",
       "      <td>NaN</td>\n",
       "      <td>72.000</td>\n",
       "      <td>171.000</td>\n",
       "      <td>6000.000</td>\n",
       "      <td>0.000</td>\n",
       "      <td>1300.000</td>\n",
       "      <td>1691.500</td>\n",
       "      <td>88.460</td>\n",
       "      <td>5.232</td>\n",
       "      <td>NaN</td>\n",
       "    </tr>\n",
       "    <tr>\n",
       "      <th>max</th>\n",
       "      <td>NaN</td>\n",
       "      <td>48.000</td>\n",
       "      <td>NaN</td>\n",
       "      <td>72.000</td>\n",
       "      <td>68.000</td>\n",
       "      <td>NaN</td>\n",
       "      <td>NaN</td>\n",
       "      <td>NaN</td>\n",
       "      <td>180.000</td>\n",
       "      <td>959.000</td>\n",
       "      <td>300000.000</td>\n",
       "      <td>30000.000</td>\n",
       "      <td>5000.000</td>\n",
       "      <td>11140.000</td>\n",
       "      <td>100.000</td>\n",
       "      <td>33.250</td>\n",
       "      <td>NaN</td>\n",
       "    </tr>\n",
       "  </tbody>\n",
       "</table>\n",
       "</div>\n",
       "    <div class=\"colab-df-buttons\">\n",
       "\n",
       "  <div class=\"colab-df-container\">\n",
       "    <button class=\"colab-df-convert\" onclick=\"convertToInteractive('df-2321bfb9-6b53-43eb-bdc9-1bae6f045464')\"\n",
       "            title=\"Convert this dataframe to an interactive table.\"\n",
       "            style=\"display:none;\">\n",
       "\n",
       "  <svg xmlns=\"http://www.w3.org/2000/svg\" height=\"24px\" viewBox=\"0 -960 960 960\">\n",
       "    <path d=\"M120-120v-720h720v720H120Zm60-500h600v-160H180v160Zm220 220h160v-160H400v160Zm0 220h160v-160H400v160ZM180-400h160v-160H180v160Zm440 0h160v-160H620v160ZM180-180h160v-160H180v160Zm440 0h160v-160H620v160Z\"/>\n",
       "  </svg>\n",
       "    </button>\n",
       "\n",
       "  <style>\n",
       "    .colab-df-container {\n",
       "      display:flex;\n",
       "      gap: 12px;\n",
       "    }\n",
       "\n",
       "    .colab-df-convert {\n",
       "      background-color: #E8F0FE;\n",
       "      border: none;\n",
       "      border-radius: 50%;\n",
       "      cursor: pointer;\n",
       "      display: none;\n",
       "      fill: #1967D2;\n",
       "      height: 32px;\n",
       "      padding: 0 0 0 0;\n",
       "      width: 32px;\n",
       "    }\n",
       "\n",
       "    .colab-df-convert:hover {\n",
       "      background-color: #E2EBFA;\n",
       "      box-shadow: 0px 1px 2px rgba(60, 64, 67, 0.3), 0px 1px 3px 1px rgba(60, 64, 67, 0.15);\n",
       "      fill: #174EA6;\n",
       "    }\n",
       "\n",
       "    .colab-df-buttons div {\n",
       "      margin-bottom: 4px;\n",
       "    }\n",
       "\n",
       "    [theme=dark] .colab-df-convert {\n",
       "      background-color: #3B4455;\n",
       "      fill: #D2E3FC;\n",
       "    }\n",
       "\n",
       "    [theme=dark] .colab-df-convert:hover {\n",
       "      background-color: #434B5C;\n",
       "      box-shadow: 0px 1px 3px 1px rgba(0, 0, 0, 0.15);\n",
       "      filter: drop-shadow(0px 1px 2px rgba(0, 0, 0, 0.3));\n",
       "      fill: #FFFFFF;\n",
       "    }\n",
       "  </style>\n",
       "\n",
       "    <script>\n",
       "      const buttonEl =\n",
       "        document.querySelector('#df-2321bfb9-6b53-43eb-bdc9-1bae6f045464 button.colab-df-convert');\n",
       "      buttonEl.style.display =\n",
       "        google.colab.kernel.accessAllowed ? 'block' : 'none';\n",
       "\n",
       "      async function convertToInteractive(key) {\n",
       "        const element = document.querySelector('#df-2321bfb9-6b53-43eb-bdc9-1bae6f045464');\n",
       "        const dataTable =\n",
       "          await google.colab.kernel.invokeFunction('convertToInteractive',\n",
       "                                                    [key], {});\n",
       "        if (!dataTable) return;\n",
       "\n",
       "        const docLinkHtml = 'Like what you see? Visit the ' +\n",
       "          '<a target=\"_blank\" href=https://colab.research.google.com/notebooks/data_table.ipynb>data table notebook</a>'\n",
       "          + ' to learn more about interactive tables.';\n",
       "        element.innerHTML = '';\n",
       "        dataTable['output_type'] = 'display_data';\n",
       "        await google.colab.output.renderOutput(dataTable, element);\n",
       "        const docLink = document.createElement('div');\n",
       "        docLink.innerHTML = docLinkHtml;\n",
       "        element.appendChild(docLink);\n",
       "      }\n",
       "    </script>\n",
       "  </div>\n",
       "\n",
       "\n",
       "<div id=\"df-711b8a3c-7532-4e9f-a1ee-b1bd7f2971dc\">\n",
       "  <button class=\"colab-df-quickchart\" onclick=\"quickchart('df-711b8a3c-7532-4e9f-a1ee-b1bd7f2971dc')\"\n",
       "            title=\"Suggest charts\"\n",
       "            style=\"display:none;\">\n",
       "\n",
       "<svg xmlns=\"http://www.w3.org/2000/svg\" height=\"24px\"viewBox=\"0 0 24 24\"\n",
       "     width=\"24px\">\n",
       "    <g>\n",
       "        <path d=\"M19 3H5c-1.1 0-2 .9-2 2v14c0 1.1.9 2 2 2h14c1.1 0 2-.9 2-2V5c0-1.1-.9-2-2-2zM9 17H7v-7h2v7zm4 0h-2V7h2v10zm4 0h-2v-4h2v4z\"/>\n",
       "    </g>\n",
       "</svg>\n",
       "  </button>\n",
       "\n",
       "<style>\n",
       "  .colab-df-quickchart {\n",
       "      --bg-color: #E8F0FE;\n",
       "      --fill-color: #1967D2;\n",
       "      --hover-bg-color: #E2EBFA;\n",
       "      --hover-fill-color: #174EA6;\n",
       "      --disabled-fill-color: #AAA;\n",
       "      --disabled-bg-color: #DDD;\n",
       "  }\n",
       "\n",
       "  [theme=dark] .colab-df-quickchart {\n",
       "      --bg-color: #3B4455;\n",
       "      --fill-color: #D2E3FC;\n",
       "      --hover-bg-color: #434B5C;\n",
       "      --hover-fill-color: #FFFFFF;\n",
       "      --disabled-bg-color: #3B4455;\n",
       "      --disabled-fill-color: #666;\n",
       "  }\n",
       "\n",
       "  .colab-df-quickchart {\n",
       "    background-color: var(--bg-color);\n",
       "    border: none;\n",
       "    border-radius: 50%;\n",
       "    cursor: pointer;\n",
       "    display: none;\n",
       "    fill: var(--fill-color);\n",
       "    height: 32px;\n",
       "    padding: 0;\n",
       "    width: 32px;\n",
       "  }\n",
       "\n",
       "  .colab-df-quickchart:hover {\n",
       "    background-color: var(--hover-bg-color);\n",
       "    box-shadow: 0 1px 2px rgba(60, 64, 67, 0.3), 0 1px 3px 1px rgba(60, 64, 67, 0.15);\n",
       "    fill: var(--button-hover-fill-color);\n",
       "  }\n",
       "\n",
       "  .colab-df-quickchart-complete:disabled,\n",
       "  .colab-df-quickchart-complete:disabled:hover {\n",
       "    background-color: var(--disabled-bg-color);\n",
       "    fill: var(--disabled-fill-color);\n",
       "    box-shadow: none;\n",
       "  }\n",
       "\n",
       "  .colab-df-spinner {\n",
       "    border: 2px solid var(--fill-color);\n",
       "    border-color: transparent;\n",
       "    border-bottom-color: var(--fill-color);\n",
       "    animation:\n",
       "      spin 1s steps(1) infinite;\n",
       "  }\n",
       "\n",
       "  @keyframes spin {\n",
       "    0% {\n",
       "      border-color: transparent;\n",
       "      border-bottom-color: var(--fill-color);\n",
       "      border-left-color: var(--fill-color);\n",
       "    }\n",
       "    20% {\n",
       "      border-color: transparent;\n",
       "      border-left-color: var(--fill-color);\n",
       "      border-top-color: var(--fill-color);\n",
       "    }\n",
       "    30% {\n",
       "      border-color: transparent;\n",
       "      border-left-color: var(--fill-color);\n",
       "      border-top-color: var(--fill-color);\n",
       "      border-right-color: var(--fill-color);\n",
       "    }\n",
       "    40% {\n",
       "      border-color: transparent;\n",
       "      border-right-color: var(--fill-color);\n",
       "      border-top-color: var(--fill-color);\n",
       "    }\n",
       "    60% {\n",
       "      border-color: transparent;\n",
       "      border-right-color: var(--fill-color);\n",
       "    }\n",
       "    80% {\n",
       "      border-color: transparent;\n",
       "      border-right-color: var(--fill-color);\n",
       "      border-bottom-color: var(--fill-color);\n",
       "    }\n",
       "    90% {\n",
       "      border-color: transparent;\n",
       "      border-bottom-color: var(--fill-color);\n",
       "    }\n",
       "  }\n",
       "</style>\n",
       "\n",
       "  <script>\n",
       "    async function quickchart(key) {\n",
       "      const quickchartButtonEl =\n",
       "        document.querySelector('#' + key + ' button');\n",
       "      quickchartButtonEl.disabled = true;  // To prevent multiple clicks.\n",
       "      quickchartButtonEl.classList.add('colab-df-spinner');\n",
       "      try {\n",
       "        const charts = await google.colab.kernel.invokeFunction(\n",
       "            'suggestCharts', [key], {});\n",
       "      } catch (error) {\n",
       "        console.error('Error during call to suggestCharts:', error);\n",
       "      }\n",
       "      quickchartButtonEl.classList.remove('colab-df-spinner');\n",
       "      quickchartButtonEl.classList.add('colab-df-quickchart-complete');\n",
       "    }\n",
       "    (() => {\n",
       "      let quickchartButtonEl =\n",
       "        document.querySelector('#df-711b8a3c-7532-4e9f-a1ee-b1bd7f2971dc button');\n",
       "      quickchartButtonEl.style.display =\n",
       "        google.colab.kernel.accessAllowed ? 'block' : 'none';\n",
       "    })();\n",
       "  </script>\n",
       "</div>\n",
       "    </div>\n",
       "  </div>\n"
      ],
      "text/plain": [
       "       Assessment  YearsInJob Housing  Deadline       Age MaritalStatus  \\\n",
       "count        4446    4446.000    4446  4446.000  4446.000          4446   \n",
       "unique          2         NaN       6       NaN       NaN             5   \n",
       "top      positive         NaN   owner       NaN       NaN       married   \n",
       "freq         3197         NaN    2106       NaN       NaN          3238   \n",
       "mean          NaN       7.991     NaN    46.453    37.084           NaN   \n",
       "std           NaN       8.176     NaN    14.648    10.986           NaN   \n",
       "min           NaN       0.000     NaN     6.000    18.000           NaN   \n",
       "25%           NaN       2.000     NaN    36.000    28.000           NaN   \n",
       "50%           NaN       5.000     NaN    48.000    36.000           NaN   \n",
       "75%           NaN      12.000     NaN    60.000    45.000           NaN   \n",
       "max           NaN      48.000     NaN    72.000    68.000           NaN   \n",
       "\n",
       "       Records   TypeOfJob  Expenses    Income     Capital  ChargesOnCapital  \\\n",
       "count     4446        4446  4446.000  4446.000    4446.000          4446.000   \n",
       "unique       2           4       NaN       NaN         NaN               NaN   \n",
       "top         no  indefinite       NaN       NaN         NaN               NaN   \n",
       "freq      3677        2803       NaN       NaN         NaN               NaN   \n",
       "mean       NaN         NaN    55.601   141.689    5383.702           343.312   \n",
       "std        NaN         NaN    19.521    80.082   11527.920          1245.731   \n",
       "min        NaN         NaN    35.000     6.000       0.000             0.000   \n",
       "25%        NaN         NaN    35.000    90.000       0.000             0.000   \n",
       "50%        NaN         NaN    51.000   125.000    3000.000             0.000   \n",
       "75%        NaN         NaN    72.000   171.000    6000.000             0.000   \n",
       "max        NaN         NaN   180.000   959.000  300000.000         30000.000   \n",
       "\n",
       "        AmountRequested  MarketPrice  FinancingRatio  SavingCapacity Dubious  \n",
       "count          4446.000     4446.000        4446.000        4446.000    4446  \n",
       "unique              NaN          NaN             NaN             NaN       2  \n",
       "top                 NaN          NaN             NaN             NaN      No  \n",
       "freq                NaN          NaN             NaN             NaN    2868  \n",
       "mean           1038.763     1462.480          72.616           3.911     NaN  \n",
       "std             474.748      628.555          20.391           3.738     NaN  \n",
       "min             100.000      105.000           6.702         -13.104     NaN  \n",
       "25%             700.000     1116.250          60.030           1.680     NaN  \n",
       "50%            1000.000     1400.000          77.097           3.142     NaN  \n",
       "75%            1300.000     1691.500          88.460           5.232     NaN  \n",
       "max            5000.000    11140.000         100.000          33.250     NaN  "
      ]
     },
     "execution_count": 133,
     "metadata": {},
     "output_type": "execute_result"
    },
    {
     "data": {
      "text/plain": [
       "(4446, 17)"
      ]
     },
     "execution_count": 133,
     "metadata": {},
     "output_type": "execute_result"
    }
   ],
   "source": [
    "Credit_new =Credit.copy()\n",
    "\n",
    "Credit_new.describe(include='all')\n",
    "Credit_new.shape"
   ]
  },
  {
   "cell_type": "markdown",
   "metadata": {
    "id": "bUTFist8SQgW"
   },
   "source": [
    "***\n",
    "## SECTION 8: GAUSSIANITY AND TRANSFORMATIONS\n",
    "\n",
    "\n",
    " Perform a graphical summary of some of the variables (both categorical and continuous), using the boxplot() and hist() procedures\n",
    "\n",
    " For continuous data:\n",
    " histograms and boxplots"
   ]
  },
  {
   "cell_type": "code",
   "execution_count": 134,
   "metadata": {
    "colab": {
     "base_uri": "https://localhost:8080/",
     "height": 676
    },
    "executionInfo": {
     "elapsed": 296,
     "status": "ok",
     "timestamp": 1708093345470,
     "user": {
      "displayName": "Marta Arias Vicente",
      "userId": "13874328413650848050"
     },
     "user_tz": -60
    },
    "id": "t161pr9rSQgW",
    "outputId": "c028c588-65f0-4533-ad20-ab4ed0c1590c"
   },
   "outputs": [
    {
     "data": {
      "image/png": "[encoded data removed]",
      "text/plain": [
       "<Figure size 800x800 with 1 Axes>"
      ]
     },
     "metadata": {},
     "output_type": "display_data"
    }
   ],
   "source": [
    "Credit_new.Income.hist(bins=20,figsize=(8,8), color='green');"
   ]
  },
  {
   "cell_type": "code",
   "execution_count": 135,
   "metadata": {
    "colab": {
     "base_uri": "https://localhost:8080/",
     "height": 676
    },
    "executionInfo": {
     "elapsed": 399,
     "status": "ok",
     "timestamp": 1708093345866,
     "user": {
      "displayName": "Marta Arias Vicente",
      "userId": "13874328413650848050"
     },
     "user_tz": -60
    },
    "id": "2TrXFQhASQgW",
    "outputId": "5608f9f4-d876-47f1-a104-421f4ce01554"
   },
   "outputs": [
    {
     "data": {
      "image/png": "[encoded data removed]",
      "text/plain": [
       "<Figure size 800x800 with 1 Axes>"
      ]
     },
     "metadata": {},
     "output_type": "display_data"
    }
   ],
   "source": [
    "Credit_new.Capital.hist(bins=20,figsize=(8,8), color='red');"
   ]
  },
  {
   "cell_type": "code",
   "execution_count": 136,
   "metadata": {
    "colab": {
     "base_uri": "https://localhost:8080/",
     "height": 676
    },
    "executionInfo": {
     "elapsed": 387,
     "status": "ok",
     "timestamp": 1708093346250,
     "user": {
      "displayName": "Marta Arias Vicente",
      "userId": "13874328413650848050"
     },
     "user_tz": -60
    },
    "id": "RBYniTWySQgW",
    "outputId": "eab31875-ee17-49cf-89f4-73dc75e35b4c"
   },
   "outputs": [
    {
     "data": {
      "image/png": "[encoded data removed]",
      "text/plain": [
       "<Figure size 800x800 with 1 Axes>"
      ]
     },
     "metadata": {},
     "output_type": "display_data"
    }
   ],
   "source": [
    "pd.options.mode.use_inf_as_na = True\n",
    "Credit_new.Capital.apply(np.log10).hist(bins=20,figsize=(8,8), color='red');"
   ]
  },
  {
   "cell_type": "code",
   "execution_count": 137,
   "metadata": {
    "colab": {
     "base_uri": "https://localhost:8080/",
     "height": 676
    },
    "executionInfo": {
     "elapsed": 469,
     "status": "ok",
     "timestamp": 1708093346717,
     "user": {
      "displayName": "Marta Arias Vicente",
      "userId": "13874328413650848050"
     },
     "user_tz": -60
    },
    "id": "N5ZXIU9ESQgW",
    "outputId": "9edacb55-503a-47e9-c4df-ae9da6d7c4be"
   },
   "outputs": [
    {
     "data": {
      "image/png": "[encoded data removed]",
      "text/plain": [
       "<Figure size 800x800 with 1 Axes>"
      ]
     },
     "metadata": {},
     "output_type": "display_data"
    }
   ],
   "source": [
    "Credit_new.boxplot(column='Deadline',figsize=(8,8));"
   ]
  },
  {
   "cell_type": "code",
   "execution_count": 138,
   "metadata": {
    "colab": {
     "base_uri": "https://localhost:8080/",
     "height": 676
    },
    "executionInfo": {
     "elapsed": 476,
     "status": "ok",
     "timestamp": 1708093347190,
     "user": {
      "displayName": "Marta Arias Vicente",
      "userId": "13874328413650848050"
     },
     "user_tz": -60
    },
    "id": "P0YXl5zeSQgW",
    "outputId": "71c1aa27-92b2-4e07-f684-137e2cbe17f3",
    "scrolled": false
   },
   "outputs": [
    {
     "data": {
      "image/png": "[encoded data removed]",
      "text/plain": [
       "<Figure size 800x800 with 1 Axes>"
      ]
     },
     "metadata": {},
     "output_type": "display_data"
    }
   ],
   "source": [
    "Credit_new.boxplot(column='Age',figsize=(8,8));"
   ]
  },
  {
   "cell_type": "code",
   "execution_count": 139,
   "metadata": {
    "colab": {
     "base_uri": "https://localhost:8080/",
     "height": 590
    },
    "executionInfo": {
     "elapsed": 5,
     "status": "ok",
     "timestamp": 1708093347190,
     "user": {
      "displayName": "Marta Arias Vicente",
      "userId": "13874328413650848050"
     },
     "user_tz": -60
    },
    "id": "Mi18ow-4SQgX",
    "outputId": "840f8dcb-a1fa-43c8-8dc3-417bba293ad1"
   },
   "outputs": [
    {
     "data": {
      "image/png": "[encoded data removed]",
      "text/plain": [
       "<Figure size 1400x800 with 1 Axes>"
      ]
     },
     "metadata": {},
     "output_type": "display_data"
    }
   ],
   "source": [
    "Credit_new.loc[:,\"Expenses\":\"SavingCapacity\"].boxplot(figsize=(14,8));"
   ]
  },
  {
   "cell_type": "code",
   "execution_count": null,
   "metadata": {
    "id": "slkHmecuSQgX"
   },
   "outputs": [],
   "source": [
    "Credit_new.loc[:,\"Expenses\":\"SavingCapacity\"].boxplot(figsize=(14,8),showfliers=False); # much better, but would be nicer one by one"
   ]
  },
  {
   "cell_type": "markdown",
   "metadata": {
    "id": "xAZK8VU6SQgX"
   },
   "source": [
    " the previous plots suggest to take logs on some variables: Capital and ChargesOnCapital (we'll do it later)\n",
    "\n",
    " For categorical data:\n",
    " Frequency tables, Contingency tables, Bar charts, Pie charts\n",
    "\n",
    " should we treat Age as categorical? probably not"
   ]
  },
  {
   "cell_type": "markdown",
   "metadata": {
    "id": "PgsA6YSiSQgX"
   },
   "source": [
    "### Transform numerical variables into categorical"
   ]
  },
  {
   "cell_type": "code",
   "execution_count": null,
   "metadata": {
    "id": "PWGxnLT6SQgX"
   },
   "outputs": [],
   "source": [
    "Credit_new.Age.unique()"
   ]
  },
  {
   "cell_type": "code",
   "execution_count": null,
   "metadata": {
    "id": "Y56o4wVISQgX"
   },
   "outputs": [],
   "source": [
    "Credit_new.Age.min()\n",
    "Credit_new.Age.max()"
   ]
  },
  {
   "cell_type": "code",
   "execution_count": null,
   "metadata": {
    "id": "HC2-DQSPSQgY"
   },
   "outputs": [],
   "source": [
    "bins = pd.IntervalIndex.from_tuples([(0, 1), (2, 3), (4, 5)])\n",
    "bins"
   ]
  },
  {
   "cell_type": "code",
   "execution_count": null,
   "metadata": {
    "id": "6o7y6L1vSQgY"
   },
   "outputs": [],
   "source": [
    "pd.interval_range(start=30, end=90,freq=10)"
   ]
  },
  {
   "cell_type": "code",
   "execution_count": null,
   "metadata": {
    "id": "FpqUK2aOSQgY"
   },
   "outputs": [],
   "source": [
    "pd.cut(Credit_new.Age,\n",
    "       bins=pd.interval_range(start=30, end=90,freq=10))\n",
    "# WARNING! we are generating NAs"
   ]
  },
  {
   "cell_type": "code",
   "execution_count": null,
   "metadata": {
    "id": "WBUVT2INSQgY"
   },
   "outputs": [],
   "source": [
    "Age_cut = pd.cut(Credit_new.Age,\n",
    "                 bins=pd.interval_range(start=15, end=75,freq=10)) ;"
   ]
  },
  {
   "cell_type": "code",
   "execution_count": null,
   "metadata": {
    "id": "sq3lTk_DSQgY"
   },
   "outputs": [],
   "source": [
    "Credit_new['Age_cat'] = Age_cut.astype('str')"
   ]
  },
  {
   "cell_type": "code",
   "execution_count": null,
   "metadata": {
    "id": "U8HSQuJASQgZ"
   },
   "outputs": [],
   "source": [
    "Credit_new.Age_cat.value_counts().sort_index()"
   ]
  },
  {
   "cell_type": "code",
   "execution_count": null,
   "metadata": {
    "id": "beE_7gN9SQgZ"
   },
   "outputs": [],
   "source": [
    "Credit_new.Age_cat.value_counts().sort_index().plot.bar(figsize=(8,8));"
   ]
  },
  {
   "cell_type": "code",
   "execution_count": null,
   "metadata": {
    "id": "uIYpvAnkSQgZ"
   },
   "outputs": [],
   "source": [
    "Credit_new.Age_cat.value_counts().sort_index().plot.pie(figsize=(8,8));"
   ]
  },
  {
   "cell_type": "markdown",
   "metadata": {
    "id": "WmCVeM-PSQgZ"
   },
   "source": [
    " incidentally, this is how we could generate another new variable based on Age:"
   ]
  },
  {
   "cell_type": "code",
   "execution_count": null,
   "metadata": {
    "id": "SpTS-ENSSQgZ"
   },
   "outputs": [],
   "source": [
    "Credit_new['Age2_cat'] = Credit_new.Age.apply(lambda x :\n",
    "                                              'under55' if x < 55 else 'over55')"
   ]
  },
  {
   "cell_type": "code",
   "execution_count": null,
   "metadata": {
    "id": "YYTMAOEhSQgZ"
   },
   "outputs": [],
   "source": [
    "TypeOfJob_Age= pd.crosstab(Credit_new.TypeOfJob, Credit_new.Age_cat)\n",
    "TypeOfJob_Age"
   ]
  },
  {
   "cell_type": "code",
   "execution_count": null,
   "metadata": {
    "id": "SHP7kkiMSQga"
   },
   "outputs": [],
   "source": [
    "sn.heatmap(TypeOfJob_Age, annot=True, fmt=\"d\", cmap='coolwarm')"
   ]
  },
  {
   "cell_type": "code",
   "execution_count": null,
   "metadata": {
    "id": "oCJu0syfSQga"
   },
   "outputs": [],
   "source": [
    "TypeOfJob_Age.sum(axis=0) # row sums\n",
    "TypeOfJob_Age.sum(axis=1) # column sums"
   ]
  },
  {
   "cell_type": "code",
   "execution_count": null,
   "metadata": {
    "id": "bToPlr1VSQga"
   },
   "outputs": [],
   "source": [
    "pd.crosstab(Credit_new.TypeOfJob,\n",
    "            Credit_new.Age_cat,\n",
    "            normalize=True,\n",
    "            margins=True) # relative frequencies"
   ]
  },
  {
   "cell_type": "code",
   "execution_count": null,
   "metadata": {
    "id": "UsMbEB8gSQga"
   },
   "outputs": [],
   "source": [
    "pd.crosstab(Credit_new.TypeOfJob,\n",
    "            Credit_new.Age_cat,\n",
    "            normalize=True,margins=True).round(decimals=3)\n",
    "            # idem, rounded to 3 digits"
   ]
  },
  {
   "cell_type": "code",
   "execution_count": null,
   "metadata": {
    "id": "u3nomxQ6SQga"
   },
   "outputs": [],
   "source": [
    "(pd.crosstab(Credit_new.TypeOfJob,\n",
    "             Credit_new.Age_cat,\n",
    "             normalize=True,\n",
    "             margins=True)*100).round(decimals=3)\n",
    "             # total percentages"
   ]
  },
  {
   "cell_type": "code",
   "execution_count": null,
   "metadata": {
    "id": "cCIUQQA8SQga"
   },
   "outputs": [],
   "source": [
    "pd.crosstab(Credit_new.TypeOfJob,\n",
    "            Credit_new.Age_cat,\n",
    "            normalize=\"index\").round(decimals=3)\n",
    "            # table of relative frequencies (column-wise)\n",
    "pd.crosstab(Credit_new.TypeOfJob,\n",
    "            Credit_new.Age_cat,\n",
    "            normalize=\"columns\").round(decimals=3)\n",
    "            # table of relative frequencies (row-wise)"
   ]
  },
  {
   "cell_type": "code",
   "execution_count": null,
   "metadata": {
    "id": "asgNvepVSQgb"
   },
   "outputs": [],
   "source": [
    "# basic stacked bar chart\n",
    "TypeOfJob_Age.T.plot.bar(stacked=True, figsize=(8,8));"
   ]
  },
  {
   "cell_type": "code",
   "execution_count": null,
   "metadata": {
    "id": "jUXVpNHwSQgb"
   },
   "outputs": [],
   "source": [
    "pd.crosstab(Credit_new.TypeOfJob,\n",
    "            Credit_new.Age_cat,\n",
    "            normalize=\"columns\").T.plot.bar(stacked=True, figsize=(8,8));"
   ]
  },
  {
   "cell_type": "code",
   "execution_count": null,
   "metadata": {
    "id": "pkqS81MdSQgb"
   },
   "outputs": [],
   "source": [
    "# grouped bar chart\n",
    "pd.crosstab(Credit_new.TypeOfJob,\n",
    "            Credit_new.Age_cat,\n",
    "            normalize=\"columns\").T.plot.bar(figsize=(8,8));\n"
   ]
  },
  {
   "cell_type": "markdown",
   "metadata": {
    "id": "teh3XIvBSQgb"
   },
   "source": [
    "###  One hot encoding (dummy encoding)\n",
    "\n",
    "Sometimes you will want to treat some (of all) your categorical variables as numerical. This can happen if, for example you want to train a model that does not accept categorical variables.\n",
    "There are different methods to codify the categories. One of the most simple and comonly used is one hot encoding.  "
   ]
  },
  {
   "cell_type": "code",
   "execution_count": null,
   "metadata": {
    "id": "ffKZOlQxSQgb"
   },
   "outputs": [],
   "source": [
    "Credit['Records'].head()"
   ]
  },
  {
   "cell_type": "code",
   "execution_count": null,
   "metadata": {
    "id": "pNnPSh4USQgc",
    "scrolled": true
   },
   "outputs": [],
   "source": [
    "pd.get_dummies(Credit['Records'], prefix='Records').head()"
   ]
  },
  {
   "cell_type": "markdown",
   "metadata": {
    "id": "17R1fKOWSQgc"
   },
   "source": [
    "### Compare variables"
   ]
  },
  {
   "cell_type": "code",
   "execution_count": null,
   "metadata": {
    "id": "Kh45ch3dSQgc"
   },
   "outputs": [],
   "source": [
    "Credit_new.plot.scatter(y='Capital',\n",
    "                        x='AmountRequested',\n",
    "                        figsize=(8,8),\n",
    "                        title='Amount req. vs. Capital');"
   ]
  },
  {
   "cell_type": "code",
   "execution_count": null,
   "metadata": {
    "id": "o8q-G5ilSQgc"
   },
   "outputs": [],
   "source": [
    "Credit_new['Capital_log10'] = (Credit_new.Capital+1).apply(np.log10)\n",
    "Credit_new['AmountRequested_log10'] = (Credit_new.AmountRequested).apply(np.log10)\n",
    "Credit_new.plot.scatter(y='Capital_log10',\n",
    "                        x='AmountRequested_log10',\n",
    "                        figsize=(8,8),\n",
    "                        title='log Amount req. vs. log Capital (better)');"
   ]
  },
  {
   "cell_type": "markdown",
   "metadata": {
    "id": "y_ExEZ3tSQgc"
   },
   "source": [
    " adding a center (dashed) and a regression line (red)"
   ]
  },
  {
   "cell_type": "code",
   "execution_count": null,
   "metadata": {
    "id": "y0fHTIJHSQgc"
   },
   "outputs": [],
   "source": [
    "model = GLM.from_formula('Capital_log10 ~ AmountRequested_log10', Credit_new)\n",
    "result = model.fit()\n",
    "\n",
    "Credit_new.plot.scatter(y='Capital_log10',\n",
    "                        x='AmountRequested_log10',\n",
    "                        figsize=(8,8))\n",
    "plt.title('Amount req. vs. Capital (better)');\n",
    "plt.plot([Credit_new.AmountRequested_log10.mean()]*2,\n",
    "         [Credit_new.Capital_log10.min(),\n",
    "          Credit_new.Capital_log10.max()],\n",
    "         'k:');\n",
    "plt.plot([Credit_new.AmountRequested_log10.min(),\n",
    "          Credit_new.AmountRequested_log10.max()],\n",
    "         [Credit_new.Capital_log10.mean()]*2,\n",
    "         'k:');\n",
    "plt.plot(np.linspace(Credit_new.AmountRequested_log10.min(),\n",
    "                     Credit_new.AmountRequested_log10.max(),\n",
    "                     num=30),\n",
    "         result.params.Intercept+\n",
    "         result.params.AmountRequested_log10*\n",
    "         np.linspace(Credit_new.AmountRequested_log10.min(),\n",
    "                     Credit_new.AmountRequested_log10.max(),num=30),'r');\n"
   ]
  },
  {
   "cell_type": "markdown",
   "metadata": {
    "id": "YWiDreZ_SQgd"
   },
   "source": [
    " (note that log10(x+1)=0 for x=0, so our transformation keeps the zeros)\n",
    "     \n",
    " On the other hand, these same zeros spoil the regression: perhaps it would be more sensible to do the regression without them"
   ]
  },
  {
   "cell_type": "code",
   "execution_count": null,
   "metadata": {
    "id": "KkSb12SJSQgd"
   },
   "outputs": [],
   "source": [
    "Credit_new.boxplot(column='AmountRequested',\n",
    "                   by='TypeOfJob',\n",
    "                   figsize=(12,8));"
   ]
  },
  {
   "cell_type": "code",
   "execution_count": null,
   "metadata": {
    "id": "P8bj8cVOSQgd"
   },
   "outputs": [],
   "source": [
    "Credit_new.boxplot(column='Age',\n",
    "                   by='Assessment',\n",
    "                   figsize=(12,8));"
   ]
  },
  {
   "cell_type": "code",
   "execution_count": null,
   "metadata": {
    "id": "yLSpTovkSQgd"
   },
   "outputs": [],
   "source": [
    "pd.crosstab(Credit_new.TypeOfJob,\n",
    "            Credit_new.Assessment,\n",
    "            normalize=\"columns\").T.plot.bar(stacked=True,\n",
    "                                            figsize=(8,8));"
   ]
  },
  {
   "cell_type": "code",
   "execution_count": null,
   "metadata": {
    "id": "3p-lBSqOSQgd"
   },
   "outputs": [],
   "source": [
    "scatter_matrix(Credit_new.loc[:,['AmountRequested','Capital','Age']],\n",
    "               alpha=0.2, figsize=(12, 12),\n",
    "               diagonal='kde', marker='.');"
   ]
  },
  {
   "cell_type": "markdown",
   "metadata": {
    "id": "uevIBf4ISQgd"
   },
   "source": [
    "### Gaussianity"
   ]
  },
  {
   "cell_type": "code",
   "execution_count": null,
   "metadata": {
    "id": "KTdI6ln3SQge"
   },
   "outputs": [],
   "source": [
    "sigma=  Credit_new.Expenses.std()\n",
    "mu=  Credit_new.Expenses.mean()\n",
    "fig, ax = plt.subplots(figsize=(8,8))\n",
    "count, bins, ignored = plt.hist(Credit_new.Expenses, 15, density=True)\n",
    "dbins = np.linspace(bins[0], bins[-1])\n",
    "plt.title(\"Expenses\")\n",
    "ax.set_xlabel(\"Expenses\")\n",
    "plt.plot(dbins, 1/(sigma * np.sqrt(2 * np.pi)) *\n",
    "                np.exp( - (dbins - mu)**2 / (2 * sigma**2) ),\n",
    "         linewidth=2, color='r');"
   ]
  },
  {
   "cell_type": "code",
   "execution_count": null,
   "metadata": {
    "id": "4-Lb92Y7SQge"
   },
   "outputs": [],
   "source": [
    "fig = plt.figure(figsize=(12,12))\n",
    "for i in range(8):\n",
    "    ax = fig.add_subplot(3, 3, i+1)\n",
    "    Credit_new[Credit.columns[i+8]].plot.kde()\n",
    "    plt.title(Credit.columns[i+8])\n",
    "fig.tight_layout();"
   ]
  },
  {
   "cell_type": "code",
   "execution_count": null,
   "metadata": {
    "id": "iDXaI3JvSQge"
   },
   "outputs": [],
   "source": [
    "Credit_new.loc[:,'Expenses':'SavingCapacity'].plot.kde(subplots=True,\n",
    "                                                       layout=(4,3),\n",
    "                                                       sharex=False,\n",
    "                                                       figsize=(12,12));"
   ]
  },
  {
   "cell_type": "markdown",
   "metadata": {
    "id": "e-zS0nZDSQge"
   },
   "source": [
    " do any of the continuous variables \"look\" Gaussian?\n",
    " features to look for in comparing to a Gaussian: outliers, asymmetries, long tails"
   ]
  },
  {
   "cell_type": "markdown",
   "metadata": {
    "id": "5RP_5s9HSQge"
   },
   "source": [
    "## SECTION:9 NORMALIZATION\n",
    "\n",
    "If you try to train a model with varaibles of ranges too far away it will be a disaster most of the times. Becasue the model might only \"see\" the bigger variable.\n",
    "\n",
    "To avoid this issue you usualy normalize or standarize your data. This way you force all your variables to have the same range.\n",
    "There are models that are very sensitive to this and might even fail to converge if you don't normalize your data.\n",
    "\n",
    "The most comon transformations for normalizing the data are:\n",
    "* Standarization: $\\frac{X - \\mu}{\\sigma}$ will trasnform your data so it has mean 0 and std 1.\n",
    "* Min-max scaling: $\\frac{X - X_{min}}{X_{max} - X_{min}}$ will send your data to the range [0,1]\n",
    "* Boxcox transformation: $\\frac{X^\\lambda - 1}{ \\lambda}$ if $\\lambda \\neq 0$ or $ln(X)$ if $\\lambda = 0$ transforms the data to try to fit a normal distribution.\n"
   ]
  },
  {
   "cell_type": "code",
   "execution_count": null,
   "metadata": {
    "id": "5bDPm_fuSQge"
   },
   "outputs": [],
   "source": [
    "Credit_new[['Age', 'MarketPrice']].describe()"
   ]
  },
  {
   "cell_type": "code",
   "execution_count": null,
   "metadata": {
    "id": "iUPINjAMSQge"
   },
   "outputs": [],
   "source": [
    "min_max_scaler =  preprocessing.MinMaxScaler()\n",
    "Credit_new[['Age_min_max', 'MarketPrice_min_max']] = min_max_scaler.fit_transform(Credit_new[['Age', 'MarketPrice']])\n",
    "std_scaler = preprocessing.StandardScaler()\n",
    "Credit_new[['Age_std','MarketPrice_std']]= preprocessing.scale(Credit_new[['Age', 'MarketPrice']])\n",
    "\n",
    "x, _= boxcox(Credit_new['Age'])\n",
    "Credit_new['Age_bx'] = x\n",
    "\n",
    "x, _= boxcox(Credit_new['MarketPrice'])\n",
    "Credit_new['MarketPrice_bx'] = x"
   ]
  },
  {
   "cell_type": "code",
   "execution_count": null,
   "metadata": {
    "id": "iAwYocexSQgf"
   },
   "outputs": [],
   "source": [
    "Credit_new[['Age_min_max', 'MarketPrice_min_max','Age_std', 'MarketPrice_std', 'Age_bx','MarketPrice_bx']].describe()"
   ]
  },
  {
   "cell_type": "code",
   "execution_count": null,
   "metadata": {
    "id": "F6wYdr7NSQgf"
   },
   "outputs": [],
   "source": [
    "Credit_new[['Age','Age_min_max', 'Age_std', 'Age_bx']].hist(figsize=(14,4), layout=(1,4));"
   ]
  },
  {
   "cell_type": "code",
   "execution_count": null,
   "metadata": {
    "id": "ZuBR91WISQgf"
   },
   "outputs": [],
   "source": [
    "Credit_new[['MarketPrice','MarketPrice_min_max', 'MarketPrice_std', 'MarketPrice_bx']].hist(figsize=(14,4), layout=(1,4));"
   ]
  },
  {
   "cell_type": "markdown",
   "metadata": {
    "id": "LYvKK9TeSQgf"
   },
   "source": [
    "extra plot boxcox transformation:"
   ]
  },
  {
   "cell_type": "code",
   "execution_count": null,
   "metadata": {
    "id": "3LLR6-vpSQgf"
   },
   "outputs": [],
   "source": [
    "fig = plt.figure(figsize=(12,6))\n",
    "ax = fig.add_subplot(1, 2, 1)\n",
    "Credit_new.Capital.plot.hist(title='Look at that ...')\n",
    "\n",
    "# the boxcox function transforms the data using\n",
    "# the power transformation (x**lambda -1)/ lambda\n",
    "# the function takes care of finding the optimal lambda\n",
    "x, _= boxcox(Credit_new.Capital+1)\n",
    "\n",
    "Credit_new['Capital_BC'] = x\n",
    "ax = fig.add_subplot(1, 2, 2)\n",
    "Credit_new.Capital_BC.plot.hist(title='Look at that now ...');"
   ]
  },
  {
   "cell_type": "markdown",
   "metadata": {
    "id": "-u8eckkaSQgf"
   },
   "source": [
    "## SECTION 10: ENDING THE PREPROCESSING\n",
    "\n",
    "  \n",
    " Shuffle the data (to avoid possible ordering biases)"
   ]
  },
  {
   "cell_type": "code",
   "execution_count": null,
   "metadata": {
    "id": "IcYeLtokSQgf"
   },
   "outputs": [],
   "source": [
    "np.random.seed(144)\n",
    "Credit_new = Credit_new.sample(frac=1).reset_index(drop=True)"
   ]
  },
  {
   "cell_type": "markdown",
   "metadata": {
    "id": "o3vpgWVXSQgg"
   },
   "source": [
    "\n",
    " Save the preprocessed data into a file for future use\n",
    "<div class=\"alert alert-block alert-warning\">\n",
    "Pandas allows to save the data in a lot of different formats as you can see [here](http://pandas-docs.github.io/pandas-docs-travis/io.html) among others CSV, pickle, HDF5, JSON, Excel as well as other data storages like SQL databases, Google Big Query, parquet or feather.\n",
    "\n",
    "The simplest way is to save the data as a csv with `to_csv` or as a pickle file (native python store format) with `to_pickle`, this last one allows also to compress the data.\n",
    "</div>\n"
   ]
  },
  {
   "cell_type": "code",
   "execution_count": null,
   "metadata": {
    "id": "JxXpVmAzSQgg"
   },
   "outputs": [],
   "source": [
    "Credit_new.to_pickle('Credsco-processed.pkl.bz2',compression='bz2')"
   ]
  },
  {
   "cell_type": "code",
   "execution_count": null,
   "metadata": {
    "id": "GTRq1Eu3SQgg"
   },
   "outputs": [],
   "source": [
    "Credit_load =pd.read_pickle('Credsco-processed.pkl.bz2',compression='bz2')\n",
    "Credit_load.head()"
   ]
  }
 ],
 "metadata": {
  "colab": {
   "provenance": []
  },
  "kernelspec": {
   "display_name": "Python 3 (ipykernel)",
   "language": "python",
   "name": "python3"
  },
  "language_info": {
   "codemirror_mode": {
    "name": "ipython",
    "version": 3
   },
   "file_extension": ".py",
   "mimetype": "text/x-python",
   "name": "python",
   "nbconvert_exporter": "python",
   "pygments_lexer": "ipython3",
   "version": "3.11.5"
  },
  "latex_envs": {
   "LaTeX_envs_menu_present": true,
   "autoclose": false,
   "autocomplete": true,
   "bibliofile": "biblio.bib",
   "cite_by": "apalike",
   "current_citInitial": 1,
   "eqLabelWithNumbers": true,
   "eqNumInitial": 1,
   "hotkeys": {
    "equation": "Ctrl-E",
    "itemize": "Ctrl-I"
   },
   "labels_anchors": false,
   "latex_user_defs": false,
   "report_style_numbering": false,
   "user_envs_cfg": false
  },
  "toc": {
   "base_numbering": 1,
   "nav_menu": {},
   "number_sections": true,
   "sideBar": true,
   "skip_h1_title": false,
   "title_cell": "Table of Contents",
   "title_sidebar": "Contents",
   "toc_cell": false,
   "toc_position": {
    "height": "calc(100% - 180px)",
    "left": "10px",
    "top": "150px",
    "width": "316px"
   },
   "toc_section_display": true,
   "toc_window_display": true
  },
  "vscode": {
   "interpreter": {
    "hash": "36bc7f9a9055f480cb73d8ea486ac439fe390d5591cca9e08d0b9b0f17fdecc4"
   }
  }
 },
 "nbformat": 4,
 "nbformat_minor": 1
}
